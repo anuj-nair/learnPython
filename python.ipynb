{
 "cells": [
  {
   "cell_type": "markdown",
   "metadata": {},
   "source": [
    "# 1. Python\n",
    "\n",
    "- **1.** Brief Introductions to Python (*this notebook*)\n",
    "    - **1.1.** [Variables](#1.1.-Variables)\n",
    "    - **1.2.** [Basic Data Types](#1.2.-Basic-Data-Types)\n",
    "        - **1.2.1.** [Numerical](#1.2.1.-Numerical)\n",
    "        - **1.2.2.** [String](#1.2.2.-String)\n",
    "        - **1.2.3.** [Boolean](#1.2.3.-Boolean)\n",
    "        - **1.2.4.** [List](#1.2.4.-List)\n",
    "        - **1.2.5.** [Tuple](#1.2.5.-Tuple)\n",
    "            - **1.2.5.1.** [Slicing Operation on Lists and Tuples](#1.2.5.1.-Slicing-Operation-on-Lists-and-Tuples)\n",
    "        - **1.2.6.** [Set](#1.2.6.-Set)\n",
    "            - **1.2.6.1.** [Some Operations on Sets](#1.2.6.1.-Some-Operations-on-Sets)\n",
    "        - **1.2.7.** [Dictionaries](#1.2.7.-Dictionaries)\n",
    "    - **1.3.** [Reserved Words](#1.3.-Reserved-Words)\n",
    "    - **1.4.** [Control Structures](#1.4.-Control-Structures)\n",
    "        - **1.4.1.** [If-Else Statements](#1.4.1.-If-Else-Statements)\n",
    "        - **1.4.2.** [Loops](#1.4.2.-Loops)\n",
    "        - **1.4.3.** [Try-Except](#1.4.3.-Try-Except)"
   ]
  },
  {
   "cell_type": "markdown",
   "metadata": {},
   "source": [
    "# 1. Brief Introductions to Python"
   ]
  },
  {
   "cell_type": "markdown",
   "metadata": {},
   "source": [
    "## 1.1. Variables\n",
    "\n",
    "- Variables are named containers to store values of any kind\n",
    "- Variable datatype, can change in code"
   ]
  },
  {
   "cell_type": "code",
   "execution_count": 1,
   "metadata": {},
   "outputs": [
    {
     "name": "stdout",
     "output_type": "stream",
     "text": [
      "Variable x= 10 is of type <class 'int'>\n",
      "Variable x= KDD is of type <class 'str'>\n",
      "Variable x= None is of type <class 'NoneType'>\n"
     ]
    }
   ],
   "source": [
    "x = 10\n",
    "print(\"Variable x=\", x, \"is of type\", type(x))\n",
    "    \n",
    "x = \"KDD\"\n",
    "print(\"Variable x=\", x, \"is of type\", type(x))\n",
    "\n",
    "x = None\n",
    "print(\"Variable x=\", x, \"is of type\", type(x))"
   ]
  },
  {
   "cell_type": "markdown",
   "metadata": {},
   "source": [
    "Chained assignments, where multiple variables is assigned the same value, are possible. Note that these variables point to a separate object. Changing one of these later does not result in changing the other variables as well."
   ]
  },
  {
   "cell_type": "code",
   "execution_count": 2,
   "metadata": {},
   "outputs": [
    {
     "name": "stdout",
     "output_type": "stream",
     "text": [
      "500 500 500\n",
      "4 500 500\n",
      "3 6 9\n",
      "10\n",
      "15\n"
     ]
    }
   ],
   "source": [
    "x = y = z = 500\n",
    "print(x, y, z)\n",
    "\n",
    "x = 4\n",
    "print(x, y, z)\n",
    "\n",
    "x, y, z = 3, 6, 9\n",
    "print(x, y, z)\n",
    "\n",
    "x = 5 + 5\n",
    "print(x)\n",
    "\n",
    "x += 5\n",
    "print(x)"
   ]
  },
  {
   "cell_type": "markdown",
   "metadata": {},
   "source": [
    "## 1.2. Basic Data Types\n",
    "\n",
    "- Numerical: integer, float, complex\n",
    "- String: `\"I'm a string\"`\n",
    "- Boolean: True, False\n",
    "- List: `[1, 2, 3]`\n",
    "- Tuple: `(a, b, c)`\n",
    "- Set: `{a, b, c}`\n",
    "- Dictionary: `{key1: value1, key2: value2}`\n"
   ]
  },
  {
   "cell_type": "markdown",
   "metadata": {},
   "source": [
    "### 1.2.1. Numerical"
   ]
  },
  {
   "cell_type": "code",
   "execution_count": 3,
   "metadata": {},
   "outputs": [
    {
     "name": "stdout",
     "output_type": "stream",
     "text": [
      "5\n",
      "2\n",
      "34\n",
      "66\n",
      "3.14\n"
     ]
    }
   ],
   "source": [
    "# integer\n",
    "print(5)\n",
    "print(0b10)  # binary\n",
    "print(0o42)  # octal\n",
    "print(0x42)  # hexadecimal\n",
    "\n",
    "# float\n",
    "print(3.14)"
   ]
  },
  {
   "cell_type": "markdown",
   "metadata": {},
   "source": [
    "### 1.2.2. String"
   ]
  },
  {
   "cell_type": "code",
   "execution_count": 4,
   "metadata": {},
   "outputs": [
    {
     "name": "stdout",
     "output_type": "stream",
     "text": [
      "this is a string\n",
      "this is another string\n"
     ]
    }
   ],
   "source": [
    "print(\"this is a string\")\n",
    "print(\"this is another string\")"
   ]
  },
  {
   "cell_type": "code",
   "execution_count": 5,
   "metadata": {},
   "outputs": [
    {
     "name": "stdout",
     "output_type": "stream",
     "text": [
      "this is a string\n",
      "spanning multiple \n",
      "lines\n"
     ]
    }
   ],
   "source": [
    "print(\n",
    "    \"\"\"this is a string\n",
    "spanning multiple \n",
    "lines\"\"\"\n",
    ")"
   ]
  },
  {
   "cell_type": "markdown",
   "metadata": {},
   "source": [
    "### 1.2.3. Boolean"
   ]
  },
  {
   "cell_type": "code",
   "execution_count": 6,
   "metadata": {},
   "outputs": [
    {
     "name": "stdout",
     "output_type": "stream",
     "text": [
      "True\n",
      "False\n"
     ]
    }
   ],
   "source": [
    "print(True)\n",
    "print(False)"
   ]
  },
  {
   "cell_type": "markdown",
   "metadata": {},
   "source": [
    "### 1.2.4. List"
   ]
  },
  {
   "cell_type": "code",
   "execution_count": 7,
   "metadata": {},
   "outputs": [
    {
     "name": "stdout",
     "output_type": "stream",
     "text": [
      "[5, 4, 7]\n",
      "['a', 'b', 'c']\n",
      "['a', 5, True]\n"
     ]
    }
   ],
   "source": [
    "# list\n",
    "print([5, 4, 7])\n",
    "print([\"a\", \"b\", \"c\"])\n",
    "print([\"a\", 5, True])  # mixed types also possible"
   ]
  },
  {
   "cell_type": "code",
   "execution_count": 8,
   "metadata": {},
   "outputs": [],
   "source": [
    "x = [5, 4, 7]"
   ]
  },
  {
   "cell_type": "markdown",
   "metadata": {},
   "source": [
    "Variables of type integer, float, boolean, and list are mutable, i. e. modifiable. "
   ]
  },
  {
   "cell_type": "markdown",
   "metadata": {},
   "source": [
    "### 1.2.5. Tuple"
   ]
  },
  {
   "cell_type": "code",
   "execution_count": 9,
   "metadata": {},
   "outputs": [
    {
     "name": "stdout",
     "output_type": "stream",
     "text": [
      "(5, 4, 7)\n",
      "('a', 'b', 'c')\n",
      "('a', 5, True)\n"
     ]
    }
   ],
   "source": [
    "print((5, 4, 7))\n",
    "print((\"a\", \"b\", \"c\"))\n",
    "print((\"a\", 5, True))  # mixed types also possible"
   ]
  },
  {
   "cell_type": "markdown",
   "metadata": {},
   "source": [
    "#### 1.2.5.1. Slicing Operation on Lists and Tuples"
   ]
  },
  {
   "cell_type": "code",
   "execution_count": 10,
   "metadata": {},
   "outputs": [
    {
     "name": "stdout",
     "output_type": "stream",
     "text": [
      "4\n",
      "4\n",
      "7\n",
      "7\n",
      "(4, 5)\n",
      "[4, 5]\n"
     ]
    }
   ],
   "source": [
    "my_tuple = (4, 5, 6, 7)\n",
    "my_list = [4, 5, 6, 7]\n",
    "\n",
    "# Access via index, always starts at index 0\n",
    "# first element\n",
    "print(my_tuple[0])\n",
    "print(my_list[0])\n",
    "\n",
    "# last element\n",
    "print(my_tuple[-1])\n",
    "print(my_list[-1])\n",
    "\n",
    "# take the first two\n",
    "print(my_tuple[:2])\n",
    "print(my_list[:2])"
   ]
  },
  {
   "cell_type": "code",
   "execution_count": 11,
   "metadata": {},
   "outputs": [
    {
     "name": "stdout",
     "output_type": "stream",
     "text": [
      "7\n",
      "7\n",
      "(4, 5)\n",
      "[4, 5]\n",
      "(5, 6, 7)\n",
      "[5, 6, 7]\n",
      "(5, 6)\n",
      "[5, 6]\n"
     ]
    }
   ],
   "source": [
    "print(my_tuple[-1])\n",
    "print(my_list[-1])\n",
    "\n",
    "# take the first two\n",
    "print(my_tuple[:2])\n",
    "print(my_list[:2])\n",
    "\n",
    "# take all starting from position 1\n",
    "print(my_tuple[1:])\n",
    "print(my_list[1:])\n",
    "\n",
    "# take only specific indexes, except last index\n",
    "print(my_tuple[1:3])\n",
    "print(my_list[1:3])"
   ]
  },
  {
   "cell_type": "code",
   "execution_count": 12,
   "metadata": {},
   "outputs": [
    {
     "name": "stdout",
     "output_type": "stream",
     "text": [
      "4\n",
      "4\n"
     ]
    }
   ],
   "source": [
    "# length of tuple or set:\n",
    "print(len(my_tuple))\n",
    "print(len(my_list))"
   ]
  },
  {
   "cell_type": "code",
   "execution_count": 13,
   "metadata": {},
   "outputs": [
    {
     "name": "stdout",
     "output_type": "stream",
     "text": [
      "[4, 5, 6, 7, 42]\n",
      "[4, 5, 6, 7, 42, 5, 3, 7]\n",
      "[4, 5, 6, 7, 5, 3, 7]\n",
      "[4, 42, 5, 6, 7, 5, 3, 7]\n"
     ]
    }
   ],
   "source": [
    "# append element at the end of a list\n",
    "my_list.append(42)\n",
    "print(my_list)\n",
    "\n",
    "# add a sequence of elements, i. e. extend a list\n",
    "my_list.extend([5, 3, 7])\n",
    "print(my_list)\n",
    "\n",
    "# remove first element with value\n",
    "my_list.remove(42)\n",
    "print(my_list)\n",
    "\n",
    "# insert element at index\n",
    "my_list.insert(1, 42)\n",
    "print(my_list)"
   ]
  },
  {
   "cell_type": "code",
   "execution_count": 14,
   "metadata": {},
   "outputs": [
    {
     "name": "stdout",
     "output_type": "stream",
     "text": [
      "[3, 4, 5, 5, 6, 7, 7, 42]\n",
      "[42, 7, 7, 6, 5, 5, 4, 3]\n",
      "3\n",
      "[42, 7, 7, 6, 5, 5, 4]\n"
     ]
    }
   ],
   "source": [
    "# sort inplace\n",
    "my_list.sort()\n",
    "print(my_list)\n",
    "\n",
    "my_list.reverse()\n",
    "print(my_list)\n",
    "\n",
    "# remove and return last element\n",
    "print(my_list.pop())\n",
    "print(my_list)"
   ]
  },
  {
   "cell_type": "markdown",
   "metadata": {},
   "source": [
    "### 1.2.6. Set\n",
    "*Sets* are collections that hold only unique elements, i. e. duplicate values are not possible."
   ]
  },
  {
   "cell_type": "code",
   "execution_count": 15,
   "metadata": {},
   "outputs": [
    {
     "name": "stdout",
     "output_type": "stream",
     "text": [
      "{'apple', 'banana', 'cherry'}\n"
     ]
    }
   ],
   "source": [
    "my_set = {\"apple\", \"banana\", \"cherry\", \"banana\"}\n",
    "print(my_set)"
   ]
  },
  {
   "cell_type": "markdown",
   "metadata": {},
   "source": [
    "#### 1.2.6.1. Some Operations on Sets"
   ]
  },
  {
   "cell_type": "code",
   "execution_count": 16,
   "metadata": {},
   "outputs": [
    {
     "name": "stdout",
     "output_type": "stream",
     "text": [
      "{'apple', 'strawberry', 'banana', 'cherry'}\n",
      "{'apple', 'strawberry', 'banana'}\n"
     ]
    }
   ],
   "source": [
    "# add element\n",
    "my_set.add(\"strawberry\")\n",
    "print(my_set)\n",
    "\n",
    "# remove element\n",
    "my_set.discard(\"cherry\")\n",
    "print(my_set)"
   ]
  },
  {
   "cell_type": "code",
   "execution_count": 17,
   "metadata": {},
   "outputs": [
    {
     "name": "stdout",
     "output_type": "stream",
     "text": [
      "{'strawberry', 'carrot', 'tomato', 'apple', 'cucumber', 'banana'}\n"
     ]
    }
   ],
   "source": [
    "my_other_set = {\"cucumber\", \"tomato\", \"carrot\"}\n",
    "my_union_set = my_set.union(my_other_set)\n",
    "print(my_union_set)"
   ]
  },
  {
   "cell_type": "code",
   "execution_count": 18,
   "metadata": {},
   "outputs": [
    {
     "data": {
      "text/plain": [
       "{'apple'}"
      ]
     },
     "execution_count": 18,
     "metadata": {},
     "output_type": "execute_result"
    }
   ],
   "source": [
    "my_set.intersection({\"apple\", \"cucumber\"})"
   ]
  },
  {
   "cell_type": "markdown",
   "metadata": {},
   "source": [
    "### 1.2.7. Dictionaries\n",
    "*Dictionaries* are hashmaps."
   ]
  },
  {
   "cell_type": "code",
   "execution_count": 19,
   "metadata": {},
   "outputs": [
    {
     "name": "stdout",
     "output_type": "stream",
     "text": [
      "{'CS1': 'IT Security Infrastructures', 'CS2': 'Programming Systems', 'CS3': 'Computer Architecture', 'CS4': 'Distributed Systems and Operating Systems', 'CS5': 'Pattern Recognition', 'CS6': 'Data Management', 'CS7': 'Computer Networks and Communication Systems', 'CS8': 'Theoretical Computer Science', 'CS9': 'Computer Graphics', 'CS10': 'System Simulation', 'CS11': 'Software Engineering', 'CS12': 'Hardware Software Co-Design', 'CS13': 'Applied Crypography', 'CS14': 'Machine Learning and Data Analytics', 'CS15': 'Digital Reality'}\n"
     ]
    }
   ],
   "source": [
    "my_dictionary = {\n",
    "    \"CS1\": \"IT Security Infrastructures\",\n",
    "    \"CS2\": \"Programming Systems\",\n",
    "    \"CS3\": \"Computer Architecture\",\n",
    "    \"CS4\": \"Distributed Systems and Operating Systems\",\n",
    "    \"CS5\": \"Pattern Recognition\",\n",
    "    \"CS6\": \"Data Management\",\n",
    "    \"CS7\": \"Computer Networks and Communication Systems\",\n",
    "    \"CS8\": \"Theoretical Computer Science\",\n",
    "    \"CS9\": \"Computer Graphics\",\n",
    "    \"CS10\": \"System Simulation\",\n",
    "    \"CS11\": \"Software Engineering\",\n",
    "    \"CS12\": \"Hardware Software Co-Design\",\n",
    "    \"CS13\": \"Applied Crypography\",\n",
    "    \"CS14\": \"Machine Learning and Data Analytics\",\n",
    "    \"CS15\": \"Digital Reality\",\n",
    "}\n",
    "print(my_dictionary)"
   ]
  },
  {
   "cell_type": "code",
   "execution_count": 20,
   "metadata": {},
   "outputs": [
    {
     "data": {
      "text/plain": [
       "dict_keys(['CS1', 'CS2', 'CS3', 'CS4', 'CS5', 'CS6', 'CS7', 'CS8', 'CS9', 'CS10', 'CS11', 'CS12', 'CS13', 'CS14', 'CS15'])"
      ]
     },
     "execution_count": 20,
     "metadata": {},
     "output_type": "execute_result"
    }
   ],
   "source": [
    "my_dictionary.keys()"
   ]
  },
  {
   "cell_type": "code",
   "execution_count": 21,
   "metadata": {},
   "outputs": [
    {
     "data": {
      "text/plain": [
       "dict_values(['IT Security Infrastructures', 'Programming Systems', 'Computer Architecture', 'Distributed Systems and Operating Systems', 'Pattern Recognition', 'Data Management', 'Computer Networks and Communication Systems', 'Theoretical Computer Science', 'Computer Graphics', 'System Simulation', 'Software Engineering', 'Hardware Software Co-Design', 'Applied Crypography', 'Machine Learning and Data Analytics', 'Digital Reality'])"
      ]
     },
     "execution_count": 21,
     "metadata": {},
     "output_type": "execute_result"
    }
   ],
   "source": [
    "my_dictionary.values()"
   ]
  },
  {
   "cell_type": "code",
   "execution_count": 22,
   "metadata": {},
   "outputs": [
    {
     "data": {
      "text/plain": [
       "'Data Management'"
      ]
     },
     "execution_count": 22,
     "metadata": {},
     "output_type": "execute_result"
    }
   ],
   "source": [
    "my_dictionary[\"CS6\"]"
   ]
  },
  {
   "cell_type": "markdown",
   "metadata": {},
   "source": [
    "## 1.3. Reserved Words\n",
    "Reserved words are identifier names that cannot be used as names for variables, functions, or classes. These include the following:\n",
    "\n",
    "- empty variable value: `None`\n",
    "- boolean values: `True`, `False`\n",
    "- logical operators: `and`, `or`, `not`, `in`\n",
    "- if-else and loops: `if`, `elif`, `for`, `while`, `else`\n",
    "- placeholder for future code: `pass`\n",
    "- statements for loops: `continue`, `break`\n",
    "- import statements: `import`, `from`, `as`\n",
    "- return values from functions: `return`, `yield`\n",
    "- try-blocks: `try`, `except`, `finally`, `else`\n",
    "- context-blocks: `with`, `as`\n",
    "- function or class: `def`, `class` \n",
    "- check a specific condition: `assert`\n",
    "- raise exceptions: `raise`\n",
    "- variable scope: `local`, `global`, `nonlocal`\n",
    "- definition of an anonymous function: `lambda`\n",
    "- remove variable name: `del`"
   ]
  },
  {
   "cell_type": "markdown",
   "metadata": {},
   "source": [
    "## 1.4. Control Structures\n",
    "- if-else statements\n",
    "- Loops: `for`, `while`\n",
    "- Try-Except"
   ]
  },
  {
   "cell_type": "markdown",
   "metadata": {},
   "source": [
    "### 1.4.1. If-Else Statements"
   ]
  },
  {
   "cell_type": "code",
   "execution_count": 23,
   "metadata": {},
   "outputs": [
    {
     "name": "stdout",
     "output_type": "stream",
     "text": [
      "It was true.\n"
     ]
    }
   ],
   "source": [
    "if True:\n",
    "    print(\"It was true.\")\n",
    "else:\n",
    "    print(\"I am never printed.\")"
   ]
  },
  {
   "cell_type": "code",
   "execution_count": 24,
   "metadata": {},
   "outputs": [
    {
     "name": "stdout",
     "output_type": "stream",
     "text": [
      "Value above five.\n"
     ]
    }
   ],
   "source": [
    "x = 7\n",
    "\n",
    "if x is None:\n",
    "    print(\"Variable null.\")\n",
    "elif x < 5:\n",
    "    print(\"Value below five.\")\n",
    "else:\n",
    "    print(\"Value above five.\")"
   ]
  },
  {
   "cell_type": "markdown",
   "metadata": {},
   "source": [
    "### 1.4.2. Loops"
   ]
  },
  {
   "cell_type": "code",
   "execution_count": 25,
   "metadata": {},
   "outputs": [
    {
     "name": "stdout",
     "output_type": "stream",
     "text": [
      "Loop number 0\n",
      "Loop number 1\n",
      "Loop number 2\n",
      "Loop number 3\n"
     ]
    }
   ],
   "source": [
    "for i in range(4):\n",
    "    print(\"Loop number\", i)"
   ]
  },
  {
   "cell_type": "code",
   "execution_count": 26,
   "metadata": {},
   "outputs": [
    {
     "name": "stdout",
     "output_type": "stream",
     "text": [
      "Bird\n",
      "Horse\n",
      "Dog\n",
      "Cat\n"
     ]
    }
   ],
   "source": [
    "my_list = [\"Cat\", \"Dog\", \"Horse\", \"Bird\"]\n",
    "while my_list:\n",
    "    print(my_list.pop())"
   ]
  },
  {
   "cell_type": "code",
   "execution_count": 27,
   "metadata": {},
   "outputs": [
    {
     "name": "stdout",
     "output_type": "stream",
     "text": [
      "Cat\n",
      "Dog\n",
      "Horse\n",
      "Bird\n"
     ]
    }
   ],
   "source": [
    "my_list = [\"Cat\", \"Dog\", \"Horse\", \"Bird\"]\n",
    "for element in my_list:\n",
    "    print(element)"
   ]
  },
  {
   "cell_type": "code",
   "execution_count": 28,
   "metadata": {},
   "outputs": [
    {
     "name": "stdout",
     "output_type": "stream",
     "text": [
      "0 Cat\n",
      "1 Dog\n",
      "2 Horse\n",
      "3 Bird\n"
     ]
    }
   ],
   "source": [
    "my_list = [\"Cat\", \"Dog\", \"Horse\", \"Bird\"]\n",
    "for index, element in enumerate(my_list):\n",
    "    print(index, element)"
   ]
  },
  {
   "cell_type": "code",
   "execution_count": 29,
   "metadata": {},
   "outputs": [
    {
     "name": "stdout",
     "output_type": "stream",
     "text": [
      "CS1 IT Security Infrastructures\n",
      "CS2 Programming Systems\n",
      "CS3 Computer Architecture\n",
      "CS4 Distributed Systems and Operating Systems\n",
      "CS5 Pattern Recognition\n",
      "CS6 Data Management\n",
      "CS7 Computer Networks and Communication Systems\n",
      "CS8 Theoretical Computer Science\n",
      "CS9 Computer Graphics\n",
      "CS10 System Simulation\n",
      "CS11 Software Engineering\n",
      "CS12 Hardware Software Co-Design\n",
      "CS13 Applied Crypography\n",
      "CS14 Machine Learning and Data Analytics\n",
      "CS15 Digital Reality\n"
     ]
    }
   ],
   "source": [
    "for key in my_dictionary:\n",
    "    print(key, my_dictionary[key])"
   ]
  },
  {
   "cell_type": "markdown",
   "metadata": {},
   "source": [
    "List comprehension is a short way of iterate over a list and build a new one:"
   ]
  },
  {
   "cell_type": "code",
   "execution_count": 30,
   "metadata": {},
   "outputs": [
    {
     "data": {
      "text/plain": [
       "[(0, 'Cat'), (1, 'Dog'), (2, 'Horse'), (3, 'Bird')]"
      ]
     },
     "execution_count": 30,
     "metadata": {},
     "output_type": "execute_result"
    }
   ],
   "source": [
    "enumerated_pets = [(index, element) for index, element in enumerate(my_list)]\n",
    "enumerated_pets"
   ]
  },
  {
   "cell_type": "markdown",
   "metadata": {},
   "source": [
    "Loops, as well as `try`-blocks can also have a `else`-statement! Note that the meaning of `else` in loops and `try`-blocks is different:\n",
    "\n",
    "- `for`-loop: Executes `else`-block only if loop iterated without disturbances such as `break` or `continue`.\n",
    "- `while`-loop: Similar to `for`-loop. Additionally only executed when condition is `False`.\n",
    "- `try`: Executes `else`-block only when no exception occurred.\n",
    "\n",
    "Furthermore, in all three cases, `else`-block is only executed when no `return` is encountered."
   ]
  },
  {
   "cell_type": "code",
   "execution_count": 31,
   "metadata": {},
   "outputs": [
    {
     "name": "stdout",
     "output_type": "stream",
     "text": [
      "Cat\n",
      "Dog\n",
      "Horse\n",
      "Bird\n",
      "That was all in this list.\n"
     ]
    }
   ],
   "source": [
    "for element in my_list:\n",
    "    print(element)\n",
    "else:\n",
    "    print(\"That was all in this list.\")"
   ]
  },
  {
   "cell_type": "code",
   "execution_count": 32,
   "metadata": {},
   "outputs": [
    {
     "name": "stdout",
     "output_type": "stream",
     "text": [
      "Bird\n",
      "Horse\n",
      "Dog\n",
      "Cat\n",
      "That was all in this list.\n"
     ]
    }
   ],
   "source": [
    "while my_list:\n",
    "    print(my_list.pop())\n",
    "else:\n",
    "    print(\"That was all in this list.\")"
   ]
  },
  {
   "cell_type": "markdown",
   "metadata": {},
   "source": [
    "### 1.4.3. Try-Except\n",
    "`try`-blocks are used to catch exceptions."
   ]
  },
  {
   "cell_type": "code",
   "execution_count": 33,
   "metadata": {},
   "outputs": [
    {
     "name": "stdout",
     "output_type": "stream",
     "text": [
      "Exception occurred.\n",
      "I am always executed.\n"
     ]
    }
   ],
   "source": [
    "try:\n",
    "    raise Error\n",
    "except:\n",
    "    print(\"Exception occurred.\")\n",
    "finally:\n",
    "    print(\"I am always executed.\")"
   ]
  },
  {
   "cell_type": "code",
   "execution_count": 34,
   "metadata": {},
   "outputs": [
    {
     "name": "stdout",
     "output_type": "stream",
     "text": [
      "Trying to do something.\n",
      "I am the else-block.\n",
      "I am always executed.\n"
     ]
    }
   ],
   "source": [
    "try:\n",
    "    print(\"Trying to do something.\")\n",
    "except:\n",
    "    print(\"Exception occurred.\")\n",
    "else:\n",
    "    print(\"I am the else-block.\")\n",
    "finally:\n",
    "    print(\"I am always executed.\")"
   ]
  },
  {
   "cell_type": "code",
   "execution_count": null,
   "metadata": {},
   "outputs": [],
   "source": []
  },
  {
   "cell_type": "code",
   "execution_count": null,
   "metadata": {},
   "outputs": [],
   "source": []
  }
 ],
 "metadata": {
  "celltoolbar": "Tags",
  "interpreter": {
   "hash": "d634d9120e07fcb10ea4e2485f922980f44c65c5790b35d436a0dd63f2b90915"
  },
  "kernelspec": {
   "display_name": "Python 3 (ipykernel)",
   "language": "python",
   "name": "python3"
  },
  "language_info": {
   "codemirror_mode": {
    "name": "ipython",
    "version": 3
   },
   "file_extension": ".py",
   "mimetype": "text/x-python",
   "name": "python",
   "nbconvert_exporter": "python",
   "pygments_lexer": "ipython3",
   "version": "3.8.16"
  }
 },
 "nbformat": 4,
 "nbformat_minor": 4
}
