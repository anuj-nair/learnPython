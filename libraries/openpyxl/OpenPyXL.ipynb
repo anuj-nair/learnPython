{
 "cells": [
  {
   "cell_type": "markdown",
   "id": "188f23a9",
   "metadata": {},
   "source": [
    "## Basics"
   ]
  },
  {
   "cell_type": "code",
   "execution_count": 1,
   "id": "72908f66",
   "metadata": {},
   "outputs": [],
   "source": [
    "from openpyxl import Workbook, load_workbook"
   ]
  },
  {
   "cell_type": "markdown",
   "id": "90c53480",
   "metadata": {},
   "source": [
    "#### Load Excel Sheet"
   ]
  },
  {
   "cell_type": "code",
   "execution_count": 36,
   "id": "4fade877",
   "metadata": {},
   "outputs": [
    {
     "data": {
      "text/plain": [
       "<openpyxl.workbook.workbook.Workbook at 0x7f4249271a90>"
      ]
     },
     "execution_count": 36,
     "metadata": {},
     "output_type": "execute_result"
    }
   ],
   "source": [
    "filename='vgsales.xlsx'\n",
    "wb=load_workbook(filename=filename)\n",
    "wb"
   ]
  },
  {
   "cell_type": "markdown",
   "id": "20776685",
   "metadata": {},
   "source": [
    "#### Get Active Worksheet"
   ]
  },
  {
   "cell_type": "code",
   "execution_count": null,
   "id": "b501183e",
   "metadata": {},
   "outputs": [],
   "source": [
    "ws=wb.active"
   ]
  },
  {
   "cell_type": "code",
   "execution_count": 4,
   "id": "dcff3897",
   "metadata": {},
   "outputs": [
    {
     "data": {
      "text/plain": [
       "<Cell 'Sheet1'.A1>"
      ]
     },
     "execution_count": 4,
     "metadata": {},
     "output_type": "execute_result"
    }
   ],
   "source": [
    "ws['A1']"
   ]
  },
  {
   "cell_type": "markdown",
   "id": "efcbee79",
   "metadata": {},
   "source": [
    "#### Get Cell Value"
   ]
  },
  {
   "cell_type": "code",
   "execution_count": 5,
   "id": "25bc157e",
   "metadata": {},
   "outputs": [
    {
     "data": {
      "text/plain": [
       "'Rank'"
      ]
     },
     "execution_count": 5,
     "metadata": {},
     "output_type": "execute_result"
    }
   ],
   "source": [
    "ws['A1'].value"
   ]
  },
  {
   "cell_type": "code",
   "execution_count": 6,
   "id": "f1e61a4d",
   "metadata": {},
   "outputs": [
    {
     "data": {
      "text/plain": [
       "1"
      ]
     },
     "execution_count": 6,
     "metadata": {},
     "output_type": "execute_result"
    }
   ],
   "source": [
    "ws['A2'].value"
   ]
  },
  {
   "cell_type": "markdown",
   "id": "f65bd688",
   "metadata": {},
   "source": [
    "#### Manipulate Cell Value"
   ]
  },
  {
   "cell_type": "code",
   "execution_count": 7,
   "id": "88c7ba43",
   "metadata": {},
   "outputs": [],
   "source": [
    "ws['A2'].value=0"
   ]
  },
  {
   "cell_type": "code",
   "execution_count": 8,
   "id": "72efa19a",
   "metadata": {},
   "outputs": [
    {
     "data": {
      "text/plain": [
       "0"
      ]
     },
     "execution_count": 8,
     "metadata": {},
     "output_type": "execute_result"
    }
   ],
   "source": [
    "ws['A2'].value"
   ]
  },
  {
   "cell_type": "markdown",
   "id": "4487fc9c",
   "metadata": {},
   "source": [
    "#### Get Sheet Names"
   ]
  },
  {
   "cell_type": "code",
   "execution_count": 9,
   "id": "ec248fc0",
   "metadata": {},
   "outputs": [
    {
     "name": "stdout",
     "output_type": "stream",
     "text": [
      "['Sheet1']\n"
     ]
    }
   ],
   "source": [
    "wb.sheetnames"
   ]
  },
  {
   "cell_type": "markdown",
   "id": "97e53dad",
   "metadata": {},
   "source": [
    "#### Create Worksheets"
   ]
  },
  {
   "cell_type": "code",
   "execution_count": 10,
   "id": "0d39244b",
   "metadata": {},
   "outputs": [
    {
     "data": {
      "text/plain": [
       "<Worksheet \"Sheet2\">"
      ]
     },
     "execution_count": 10,
     "metadata": {},
     "output_type": "execute_result"
    }
   ],
   "source": [
    "wb.create_sheet('Sheet2')"
   ]
  },
  {
   "cell_type": "markdown",
   "id": "a1d8add1",
   "metadata": {},
   "source": [
    "#### Get Specific Worksheet"
   ]
  },
  {
   "cell_type": "code",
   "execution_count": 11,
   "id": "54fb1443",
   "metadata": {},
   "outputs": [],
   "source": [
    "ws=wb['Sheet2']"
   ]
  },
  {
   "cell_type": "markdown",
   "id": "b7acbec7",
   "metadata": {},
   "source": [
    "#### Append Data to worksheet"
   ]
  },
  {
   "cell_type": "code",
   "execution_count": 12,
   "id": "325d54b9",
   "metadata": {},
   "outputs": [],
   "source": [
    "ws.append(['This','sentence','and','the','worksheets','are','added','using','python'])"
   ]
  },
  {
   "cell_type": "markdown",
   "id": "509cd990",
   "metadata": {},
   "source": [
    "#### Save Worksheet"
   ]
  },
  {
   "cell_type": "code",
   "execution_count": 15,
   "id": "a55e5621",
   "metadata": {},
   "outputs": [],
   "source": [
    "updated_filename='vgsales_updated.xlsx'\n",
    "wb.save(updated_filename)"
   ]
  },
  {
   "cell_type": "code",
   "execution_count": 16,
   "id": "95f26072",
   "metadata": {},
   "outputs": [
    {
     "data": {
      "text/plain": [
       "0"
      ]
     },
     "execution_count": 16,
     "metadata": {},
     "output_type": "execute_result"
    }
   ],
   "source": [
    "wb=load_workbook(filename=updated_filename)\n",
    "ws=wb.active\n",
    "ws['A2'].value"
   ]
  },
  {
   "cell_type": "markdown",
   "id": "70c5686b",
   "metadata": {},
   "source": [
    "#### Manipulate Cell Value"
   ]
  },
  {
   "cell_type": "code",
   "execution_count": 17,
   "id": "cb412deb",
   "metadata": {},
   "outputs": [
    {
     "data": {
      "text/plain": [
       "1"
      ]
     },
     "execution_count": 17,
     "metadata": {},
     "output_type": "execute_result"
    }
   ],
   "source": [
    "ws['A2']=1\n",
    "ws['A2'].value"
   ]
  },
  {
   "cell_type": "code",
   "execution_count": 18,
   "id": "56d5afa1",
   "metadata": {},
   "outputs": [
    {
     "data": {
      "text/plain": [
       "['Sheet1', 'Sheet2']"
      ]
     },
     "execution_count": 18,
     "metadata": {},
     "output_type": "execute_result"
    }
   ],
   "source": [
    "wb.sheetnames"
   ]
  },
  {
   "cell_type": "code",
   "execution_count": 33,
   "id": "00e0d8c2",
   "metadata": {},
   "outputs": [
    {
     "data": {
      "text/plain": [
       "'This sentence and the worksheets are added using python'"
      ]
     },
     "execution_count": 33,
     "metadata": {},
     "output_type": "execute_result"
    }
   ],
   "source": [
    "ws=wb['Sheet2']\n",
    "\" \".join([ '' if ws[f\"{col}1\"].value is None else ws[f\"{col}1\"].value for col in \"ABCDEFGHI\"])"
   ]
  },
  {
   "cell_type": "markdown",
   "id": "79f44ab1",
   "metadata": {},
   "source": [
    "#### Create Workbook"
   ]
  },
  {
   "cell_type": "code",
   "execution_count": 40,
   "id": "f6c6aacb",
   "metadata": {},
   "outputs": [
    {
     "data": {
      "text/plain": [
       "<openpyxl.workbook.workbook.Workbook at 0x7f42148bb4c0>"
      ]
     },
     "execution_count": 40,
     "metadata": {},
     "output_type": "execute_result"
    }
   ],
   "source": [
    "wb = Workbook()\n",
    "wb"
   ]
  },
  {
   "cell_type": "code",
   "execution_count": 41,
   "id": "ea4b50e2",
   "metadata": {},
   "outputs": [],
   "source": [
    "ws=wb.active"
   ]
  },
  {
   "cell_type": "code",
   "execution_count": 42,
   "id": "0c368ddd",
   "metadata": {},
   "outputs": [],
   "source": [
    "ws.title=\"Data\""
   ]
  },
  {
   "cell_type": "code",
   "execution_count": 44,
   "id": "576283e0",
   "metadata": {},
   "outputs": [],
   "source": [
    "ws.append(['Python','made','this','excel','sheet'])\n",
    "ws.append(['Python','made','this','excel','sheet'])\n",
    "ws.append(['Python','made','this','excel','sheet'])\n",
    "ws.append(['Python','made','this','excel','sheet'])\n",
    "ws.append(['Python','made','this','excel','sheet'])\n",
    "ws.append(['Python','made','this','excel','sheet'])\n",
    "ws.append(['The','End'])"
   ]
  },
  {
   "cell_type": "code",
   "execution_count": 45,
   "id": "fda2084a",
   "metadata": {},
   "outputs": [],
   "source": [
    "wb.save('py_made.xlsx')"
   ]
  },
  {
   "cell_type": "code",
   "execution_count": 46,
   "id": "5c115796",
   "metadata": {},
   "outputs": [
    {
     "data": {
      "text/plain": [
       "<openpyxl.workbook.workbook.Workbook at 0x7f4214397a00>"
      ]
     },
     "execution_count": 46,
     "metadata": {},
     "output_type": "execute_result"
    }
   ],
   "source": [
    "wb=load_workbook('py_made.xlsx')\n",
    "wb"
   ]
  },
  {
   "cell_type": "code",
   "execution_count": 47,
   "id": "ecd0044f",
   "metadata": {},
   "outputs": [],
   "source": [
    "ws=wb.active"
   ]
  },
  {
   "cell_type": "code",
   "execution_count": 48,
   "id": "ca87cb8b",
   "metadata": {},
   "outputs": [],
   "source": [
    "from openpyxl.utils import get_column_letter"
   ]
  },
  {
   "cell_type": "markdown",
   "id": "eaec646d",
   "metadata": {},
   "source": [
    "#### Loop through"
   ]
  },
  {
   "cell_type": "code",
   "execution_count": 52,
   "id": "a99a305a",
   "metadata": {},
   "outputs": [
    {
     "name": "stdout",
     "output_type": "stream",
     "text": [
      "Python made this excel sheet \n",
      "Python made this excel sheet \n",
      "Python made this excel sheet \n",
      "Python made this excel sheet \n",
      "Python made this excel sheet \n",
      "Python made this excel sheet \n",
      "Python made this excel sheet \n",
      "Python made this excel sheet \n",
      "Python made this excel sheet \n",
      "The End \n"
     ]
    }
   ],
   "source": [
    "for row in range(1,11):\n",
    "    for col in range(1,6):\n",
    "        col_letter=get_column_letter(col)\n",
    "        value=ws[f'{col_letter}{row}'].value\n",
    "        if value is not None:\n",
    "            print(value,end=' ')\n",
    "    print()"
   ]
  },
  {
   "cell_type": "code",
   "execution_count": 53,
   "id": "8b391058",
   "metadata": {},
   "outputs": [],
   "source": [
    "for row in range(1,11):\n",
    "    for col in range(1,6):\n",
    "        col_letter=get_column_letter(col)\n",
    "        ws[f'{col_letter}{row}'].value=f'{col_letter}{row}'"
   ]
  },
  {
   "cell_type": "code",
   "execution_count": 54,
   "id": "d40c8812",
   "metadata": {},
   "outputs": [
    {
     "name": "stdout",
     "output_type": "stream",
     "text": [
      "A1 B1 C1 D1 E1 \n",
      "A2 B2 C2 D2 E2 \n",
      "A3 B3 C3 D3 E3 \n",
      "A4 B4 C4 D4 E4 \n",
      "A5 B5 C5 D5 E5 \n",
      "A6 B6 C6 D6 E6 \n",
      "A7 B7 C7 D7 E7 \n",
      "A8 B8 C8 D8 E8 \n",
      "A9 B9 C9 D9 E9 \n",
      "A10 B10 C10 D10 E10 \n"
     ]
    }
   ],
   "source": [
    "for row in range(1,11):\n",
    "    for col in range(1,6):\n",
    "        col_letter=get_column_letter(col)\n",
    "        value=ws[f'{col_letter}{row}'].value\n",
    "        if value is not None:\n",
    "            print(value,end=' ')\n",
    "    print()"
   ]
  },
  {
   "cell_type": "code",
   "execution_count": 55,
   "id": "a731e2d1",
   "metadata": {},
   "outputs": [],
   "source": [
    "wb.save('py_made.xlsx')"
   ]
  },
  {
   "cell_type": "code",
   "execution_count": 9,
   "id": "7fd83acc",
   "metadata": {},
   "outputs": [],
   "source": [
    "def loop_thru(ws):\n",
    "    cols,rows=ws.max_column+1,ws.max_row+1\n",
    "    for row in range(1,rows):\n",
    "        for col in range(1,cols):\n",
    "            col_letter=get_column_letter(col)\n",
    "            value=ws[f'{col_letter}{row}'].value\n",
    "            if value is not None:\n",
    "                print(end='|')\n",
    "                print(value,end='')\n",
    "            else:\n",
    "                print('   ',end='')\n",
    "        print('|')"
   ]
  },
  {
   "cell_type": "markdown",
   "id": "c206714e",
   "metadata": {},
   "source": [
    "#### Merge Cells"
   ]
  },
  {
   "cell_type": "code",
   "execution_count": 155,
   "id": "a16fe5d7",
   "metadata": {},
   "outputs": [],
   "source": [
    "wb=load_workbook('py_made.xlsx')\n",
    "ws=wb.active"
   ]
  },
  {
   "cell_type": "code",
   "execution_count": 156,
   "id": "87b8c621",
   "metadata": {},
   "outputs": [],
   "source": [
    "ws.merge_cells('A1:D1')"
   ]
  },
  {
   "cell_type": "code",
   "execution_count": 157,
   "id": "156d2f99",
   "metadata": {},
   "outputs": [
    {
     "name": "stdout",
     "output_type": "stream",
     "text": [
      "|A1         |E1|\n",
      "|A2|B2|C2|D2|E2|\n",
      "|A3|B3|C3|D3|E3|\n",
      "|A4|B4|C4|D4|E4|\n",
      "|A5|B5|C5|D5|E5|\n",
      "|A6|B6|C6|D6|E6|\n",
      "|A7|B7|C7|D7|E7|\n",
      "|A8|B8|C8|D8|E8|\n",
      "|A9|B9|C9|D9|E9|\n",
      "|A10|B10|C10|D10|E10|\n"
     ]
    }
   ],
   "source": [
    "loop_thru(ws)"
   ]
  },
  {
   "cell_type": "code",
   "execution_count": 158,
   "id": "f94a3430",
   "metadata": {},
   "outputs": [],
   "source": [
    "ws.merge_cells('A1:D3')"
   ]
  },
  {
   "cell_type": "code",
   "execution_count": 159,
   "id": "d5ba6581",
   "metadata": {},
   "outputs": [
    {
     "name": "stdout",
     "output_type": "stream",
     "text": [
      "|A1         |E1|\n",
      "            |E2|\n",
      "            |E3|\n",
      "|A4|B4|C4|D4|E4|\n",
      "|A5|B5|C5|D5|E5|\n",
      "|A6|B6|C6|D6|E6|\n",
      "|A7|B7|C7|D7|E7|\n",
      "|A8|B8|C8|D8|E8|\n",
      "|A9|B9|C9|D9|E9|\n",
      "|A10|B10|C10|D10|E10|\n"
     ]
    }
   ],
   "source": [
    "loop_thru(ws)"
   ]
  },
  {
   "cell_type": "code",
   "execution_count": 160,
   "id": "f9c1ab07",
   "metadata": {},
   "outputs": [],
   "source": [
    "## Insert rows"
   ]
  },
  {
   "cell_type": "code",
   "execution_count": 161,
   "id": "cea42d5e",
   "metadata": {},
   "outputs": [
    {
     "name": "stdout",
     "output_type": "stream",
     "text": [
      "|A1         |E1|\n",
      "            |E2|\n",
      "            |E3|\n",
      "|A4|B4|C4|D4|E4|\n",
      "|A5|B5|C5|D5|E5|\n",
      "|A6|B6|C6|D6|E6|\n",
      "               |\n",
      "               |\n",
      "|A7|B7|C7|D7|E7|\n",
      "|A8|B8|C8|D8|E8|\n",
      "|A9|B9|C9|D9|E9|\n",
      "|A10|B10|C10|D10|E10|\n"
     ]
    }
   ],
   "source": [
    "ws.insert_rows(7)\n",
    "ws.insert_rows(7)\n",
    "loop_thru(ws)"
   ]
  },
  {
   "cell_type": "code",
   "execution_count": 162,
   "id": "7410cc34",
   "metadata": {},
   "outputs": [
    {
     "name": "stdout",
     "output_type": "stream",
     "text": [
      "|A1         |E1|\n",
      "            |E2|\n",
      "            |E3|\n",
      "|A4|B4|C4|D4|E4|\n",
      "|A5|B5|C5|D5|E5|\n",
      "|A6|B6|C6|D6|E6|\n",
      "               |\n",
      "|A7|B7|C7|D7|E7|\n",
      "|A8|B8|C8|D8|E8|\n",
      "|A9|B9|C9|D9|E9|\n",
      "|A10|B10|C10|D10|E10|\n"
     ]
    }
   ],
   "source": [
    "ws.delete_rows(7)\n",
    "loop_thru(ws)"
   ]
  },
  {
   "cell_type": "code",
   "execution_count": 163,
   "id": "f776f9b8",
   "metadata": {},
   "outputs": [
    {
     "name": "stdout",
     "output_type": "stream",
     "text": [
      "|A1               |E1|\n",
      "                  |E2|\n",
      "                  |E3|\n",
      "|A4      |B4|C4|D4|E4|\n",
      "|A5      |B5|C5|D5|E5|\n",
      "|A6      |B6|C6|D6|E6|\n",
      "                     |\n",
      "|A7      |B7|C7|D7|E7|\n",
      "|A8      |B8|C8|D8|E8|\n",
      "|A9      |B9|C9|D9|E9|\n",
      "|A10      |B10|C10|D10|E10|\n"
     ]
    }
   ],
   "source": [
    "ws.insert_cols(2)\n",
    "ws.insert_cols(2)\n",
    "loop_thru(ws)"
   ]
  },
  {
   "cell_type": "code",
   "execution_count": 164,
   "id": "ba203cae",
   "metadata": {},
   "outputs": [
    {
     "name": "stdout",
     "output_type": "stream",
     "text": [
      "|A1            |E1|\n",
      "               |E2|\n",
      "               |E3|\n",
      "|A4   |B4|C4|D4|E4|\n",
      "|A5   |B5|C5|D5|E5|\n",
      "|A6   |B6|C6|D6|E6|\n",
      "                  |\n",
      "|A7   |B7|C7|D7|E7|\n",
      "|A8   |B8|C8|D8|E8|\n",
      "|A9   |B9|C9|D9|E9|\n",
      "|A10   |B10|C10|D10|E10|\n"
     ]
    }
   ],
   "source": [
    "ws.delete_cols(2)\n",
    "loop_thru(ws)"
   ]
  },
  {
   "cell_type": "code",
   "execution_count": 165,
   "id": "5fa4dc3d",
   "metadata": {},
   "outputs": [
    {
     "data": {
      "text/plain": [
       "'A1:F11'"
      ]
     },
     "execution_count": 165,
     "metadata": {},
     "output_type": "execute_result"
    }
   ],
   "source": [
    "ws.dimensions"
   ]
  },
  {
   "cell_type": "code",
   "execution_count": 166,
   "id": "6ee447f0",
   "metadata": {},
   "outputs": [
    {
     "name": "stdout",
     "output_type": "stream",
     "text": [
      "|A1                     |\n",
      "                        |\n",
      "                     |E1|\n",
      "|A4   |B4|C4         |E2|\n",
      "|A5   |B5|C5         |E3|\n",
      "|A6   |B6|C6      |D4|E4|\n",
      "                  |D5|E5|\n",
      "|A7   |B7|C7      |D6|E6|\n",
      "|A8   |B8|C8            |\n",
      "|A9   |B9|C9      |D7|E7|\n",
      "|A10   |B10|C10      |D8|E8|\n",
      "                  |D9|E9|\n",
      "                  |D10|E10|\n"
     ]
    }
   ],
   "source": [
    "ws.move_range(\"E1:F11\",rows=2,cols=2)\n",
    "loop_thru(ws)"
   ]
  },
  {
   "cell_type": "code",
   "execution_count": 167,
   "id": "18b986b3",
   "metadata": {},
   "outputs": [],
   "source": [
    "wb.save('updated_py_made.xlsx')"
   ]
  },
  {
   "cell_type": "code",
   "execution_count": null,
   "id": "5c9e4763",
   "metadata": {},
   "outputs": [],
   "source": []
  },
  {
   "cell_type": "markdown",
   "id": "7ceeb8b7",
   "metadata": {},
   "source": [
    "#### Play Around"
   ]
  },
  {
   "cell_type": "code",
   "execution_count": 2,
   "id": "4563dccd",
   "metadata": {},
   "outputs": [],
   "source": [
    "from openpyxl import Workbook, load_workbook\n",
    "from openpyxl.utils import get_column_letter\n",
    "from openpyxl.styles import Font"
   ]
  },
  {
   "cell_type": "code",
   "execution_count": 3,
   "id": "88b92f10",
   "metadata": {},
   "outputs": [],
   "source": [
    "data = {\n",
    "    \"Joe\": {\n",
    "        \"math\": 65,\n",
    "        \"science\": 78,\n",
    "        \"english\": 98,\n",
    "        \"gym\": 89\n",
    "    },\n",
    "    \"Bill\": {\n",
    "            \"math\": 55,\n",
    "            \"science\": 72,\n",
    "            \"english\": 87,\n",
    "            \"gym\": 95\n",
    "    },\n",
    "    \"Tim\": {\n",
    "            \"math\": 100,\n",
    "            \"science\": 45,\n",
    "            \"english\": 75,\n",
    "            \"gym\": 92\n",
    "    },\n",
    "    \"Sally\": {\n",
    "            \"math\": 30,\n",
    "            \"science\": 25,\n",
    "            \"english\": 45,\n",
    "            \"gym\": 100\n",
    "    },\n",
    "    \"Jane\": {\n",
    "            \"math\": 100,\n",
    "            \"science\": 100,\n",
    "            \"english\": 100,\n",
    "            \"gym\": 60\n",
    "    }\n",
    "}"
   ]
  },
  {
   "cell_type": "code",
   "execution_count": 4,
   "id": "bbf6d72a",
   "metadata": {},
   "outputs": [],
   "source": [
    "wb = Workbook()\n",
    "ws = wb.active\n",
    "ws.title = \"Grades\""
   ]
  },
  {
   "cell_type": "code",
   "execution_count": 5,
   "id": "70de845f",
   "metadata": {},
   "outputs": [
    {
     "data": {
      "text/plain": [
       "['Name', 'math', 'science', 'english', 'gym']"
      ]
     },
     "execution_count": 5,
     "metadata": {},
     "output_type": "execute_result"
    }
   ],
   "source": [
    "headings = ['Name'] + list(data['Joe'].keys())\n",
    "headings"
   ]
  },
  {
   "cell_type": "code",
   "execution_count": 6,
   "id": "d6633ef2",
   "metadata": {},
   "outputs": [
    {
     "data": {
      "text/plain": [
       "['Name', 'Math', 'Science', 'English', 'Gym']"
      ]
     },
     "execution_count": 6,
     "metadata": {},
     "output_type": "execute_result"
    }
   ],
   "source": [
    "headings=[heading.title() for heading in headings]\n",
    "headings"
   ]
  },
  {
   "cell_type": "code",
   "execution_count": 7,
   "id": "1d1e6a19",
   "metadata": {},
   "outputs": [],
   "source": [
    "ws.append(headings)"
   ]
  },
  {
   "cell_type": "code",
   "execution_count": null,
   "id": "a2bbddac",
   "metadata": {},
   "outputs": [],
   "source": [
    "for person in data:\n",
    "        grades = list(data[person].values())\n",
    "        ws.append([person] + grades)"
   ]
  },
  {
   "cell_type": "code",
   "execution_count": null,
   "id": "c232eff7",
   "metadata": {},
   "outputs": [],
   "source": [
    "for col in range(2, len(data['Joe']) + 2):\n",
    "        char = get_column_letter(col)\n",
    "        ws[char + \"7\"] = f\"=SUM({char + '2'}:{char + '6'})/{len(data)}\""
   ]
  },
  {
   "cell_type": "code",
   "execution_count": 8,
   "id": "176f9cf4",
   "metadata": {},
   "outputs": [],
   "source": [
    "for col in range(1, 6):\n",
    "        ws[get_column_letter(col) + '1'].font = Font(bold=True, color=\"0099CCFF\")\n",
    "\n",
    "wb.save(\"NewGrades.xlsx\")"
   ]
  },
  {
   "cell_type": "code",
   "execution_count": 10,
   "id": "d76238e4",
   "metadata": {},
   "outputs": [
    {
     "name": "stdout",
     "output_type": "stream",
     "text": [
      "|Name|Math|Science|English|Gym|\n",
      "|Joe|65|78|98|89|\n",
      "|Bill|55|72|87|95|\n",
      "|Tim|100|45|75|92|\n",
      "|Sally|30|25|45|100|\n",
      "|Jane|100|100|100|60|\n",
      "   |=SUM(B2:B6)/5|=SUM(C2:C6)/5|=SUM(D2:D6)/5|=SUM(E2:E6)/5|\n"
     ]
    }
   ],
   "source": [
    "loop_thru(ws)"
   ]
  },
  {
   "cell_type": "code",
   "execution_count": null,
   "id": "8f75358c",
   "metadata": {},
   "outputs": [],
   "source": []
  }
 ],
 "metadata": {
  "kernelspec": {
   "display_name": "Python 3",
   "language": "python",
   "name": "python3"
  },
  "language_info": {
   "codemirror_mode": {
    "name": "ipython",
    "version": 3
   },
   "file_extension": ".py",
   "mimetype": "text/x-python",
   "name": "python",
   "nbconvert_exporter": "python",
   "pygments_lexer": "ipython3",
   "version": "3.8.16"
  }
 },
 "nbformat": 4,
 "nbformat_minor": 5
}
