{
 "cells": [
  {
   "cell_type": "code",
   "execution_count": 99,
   "id": "fd924ffb",
   "metadata": {},
   "outputs": [],
   "source": [
    "import xlsxwriter as xl"
   ]
  },
  {
   "cell_type": "markdown",
   "id": "f7a9c4f8",
   "metadata": {},
   "source": [
    "### Creating Worksheets"
   ]
  },
  {
   "cell_type": "code",
   "execution_count": 100,
   "id": "85c7a768",
   "metadata": {},
   "outputs": [],
   "source": [
    "filename='py_made.xlsx'"
   ]
  },
  {
   "cell_type": "code",
   "execution_count": 101,
   "id": "417911e9",
   "metadata": {},
   "outputs": [],
   "source": [
    "wb=xl.Workbook(filename)"
   ]
  },
  {
   "cell_type": "code",
   "execution_count": 102,
   "id": "33a1feef",
   "metadata": {},
   "outputs": [],
   "source": [
    "ws_data=wb.add_worksheet('data')\n",
    "ws_analysis=wb.add_worksheet('analysis')"
   ]
  },
  {
   "cell_type": "code",
   "execution_count": 103,
   "id": "b4b6e298",
   "metadata": {},
   "outputs": [
    {
     "data": {
      "text/plain": [
       "{'data': <xlsxwriter.worksheet.Worksheet at 0x7fcdaafdac70>,\n",
       " 'analysis': <xlsxwriter.worksheet.Worksheet at 0x7fcdaafdaaf0>}"
      ]
     },
     "execution_count": 103,
     "metadata": {},
     "output_type": "execute_result"
    }
   ],
   "source": [
    "wb.sheetnames"
   ]
  },
  {
   "cell_type": "code",
   "execution_count": 104,
   "id": "e87dec0a",
   "metadata": {},
   "outputs": [
    {
     "data": {
      "text/plain": [
       "True"
      ]
     },
     "execution_count": 104,
     "metadata": {},
     "output_type": "execute_result"
    }
   ],
   "source": [
    "wb.sheetnames['data']==ws_data"
   ]
  },
  {
   "cell_type": "code",
   "execution_count": 105,
   "id": "8772e0ac",
   "metadata": {},
   "outputs": [
    {
     "name": "stdout",
     "output_type": "stream",
     "text": [
      "py_made.xlsx  xlsxwriter.ipynb\r\n"
     ]
    }
   ],
   "source": [
    "!ls"
   ]
  },
  {
   "cell_type": "code",
   "execution_count": 106,
   "id": "c6635d7c",
   "metadata": {},
   "outputs": [],
   "source": [
    "wb.close()"
   ]
  },
  {
   "cell_type": "code",
   "execution_count": 107,
   "id": "0c677080",
   "metadata": {},
   "outputs": [
    {
     "name": "stdout",
     "output_type": "stream",
     "text": [
      "py_made.xlsx  xlsxwriter.ipynb\r\n"
     ]
    }
   ],
   "source": [
    "!ls"
   ]
  },
  {
   "cell_type": "markdown",
   "id": "e61f423b",
   "metadata": {},
   "source": [
    "### Update Values"
   ]
  },
  {
   "cell_type": "code",
   "execution_count": 113,
   "id": "ef6ba443",
   "metadata": {},
   "outputs": [],
   "source": [
    "wb=xl.Workbook(filename)"
   ]
  },
  {
   "cell_type": "code",
   "execution_count": 118,
   "id": "4a0efbe2",
   "metadata": {},
   "outputs": [],
   "source": [
    "ws_analysis=wb.add_worksheet('analysis')"
   ]
  },
  {
   "cell_type": "code",
   "execution_count": null,
   "id": "138d534c",
   "metadata": {},
   "outputs": [],
   "source": []
  },
  {
   "cell_type": "code",
   "execution_count": 119,
   "id": "e37e5a3a",
   "metadata": {},
   "outputs": [
    {
     "data": {
      "text/plain": [
       "0"
      ]
     },
     "execution_count": 119,
     "metadata": {},
     "output_type": "execute_result"
    }
   ],
   "source": [
    "ws_analysis.write(\n",
    "    \"A1\",# Cell Name\n",
    "    \"Spock\" # Value\n",
    ")"
   ]
  },
  {
   "cell_type": "code",
   "execution_count": 120,
   "id": "84663377",
   "metadata": {},
   "outputs": [
    {
     "data": {
      "text/plain": [
       "0"
      ]
     },
     "execution_count": 120,
     "metadata": {},
     "output_type": "execute_result"
    }
   ],
   "source": [
    "ws_analysis.write(1,# Row 2 (starts from 0)\n",
    "                  0,# Column A (starts from 0)\n",
    "                  \"Kirk\"\n",
    "                 )"
   ]
  },
  {
   "cell_type": "code",
   "execution_count": 121,
   "id": "5795723e",
   "metadata": {},
   "outputs": [
    {
     "name": "stderr",
     "output_type": "stream",
     "text": [
      "/home/cherry/.cache/pypoetry/virtualenvs/learnpython-3LpIPjun-py3.8/lib/python3.8/site-packages/xlsxwriter/workbook.py:339: UserWarning: Calling close() on already closed file.\n",
      "  warn(\"Calling close() on already closed file.\")\n"
     ]
    }
   ],
   "source": [
    "wb.close()"
   ]
  },
  {
   "cell_type": "markdown",
   "id": "7dff069b",
   "metadata": {},
   "source": [
    "### Formatting"
   ]
  },
  {
   "cell_type": "code",
   "execution_count": 122,
   "id": "278558fb",
   "metadata": {},
   "outputs": [],
   "source": [
    "wb=xl.Workbook(filename)\n",
    "ws_analysis=wb.add_worksheet('analysis')"
   ]
  },
  {
   "cell_type": "code",
   "execution_count": 123,
   "id": "01aa1267",
   "metadata": {},
   "outputs": [
    {
     "data": {
      "text/plain": [
       "[<xlsxwriter.format.Format at 0x7fcdaaebce50>,\n",
       " <xlsxwriter.format.Format at 0x7fcdaaebceb0>]"
      ]
     },
     "execution_count": 123,
     "metadata": {},
     "output_type": "execute_result"
    }
   ],
   "source": [
    "wb.formats"
   ]
  },
  {
   "cell_type": "code",
   "execution_count": 124,
   "id": "883e35bc",
   "metadata": {},
   "outputs": [
    {
     "name": "stdout",
     "output_type": "stream",
     "text": [
      "Help on Format in module xlsxwriter.format object:\n",
      "\n",
      "class Format(xlsxwriter.xmlwriter.XMLwriter)\n",
      " |  Format(properties=None, xf_indices=None, dxf_indices=None)\n",
      " |  \n",
      " |  A class for writing the Excel XLSX Format file.\n",
      " |  \n",
      " |  Method resolution order:\n",
      " |      Format\n",
      " |      xlsxwriter.xmlwriter.XMLwriter\n",
      " |      builtins.object\n",
      " |  \n",
      " |  Methods defined here:\n",
      " |  \n",
      " |  __init__(self, properties=None, xf_indices=None, dxf_indices=None)\n",
      " |      Constructor.\n",
      " |  \n",
      " |  set_align(self, alignment)\n",
      " |      Set the Format cell alignment.\n",
      " |      \n",
      " |      Args:\n",
      " |          alignment: String representing alignment. No default.\n",
      " |      \n",
      " |      Returns:\n",
      " |          Nothing.\n",
      " |  \n",
      " |  set_bg_color(self, bg_color)\n",
      " |      Set the Format bg_color property.\n",
      " |      \n",
      " |      Args:\n",
      " |          bg_color: Background color. No default.\n",
      " |      \n",
      " |      Returns:\n",
      " |          Nothing.\n",
      " |  \n",
      " |  set_bold(self, bold=True)\n",
      " |      Set the Format bold property.\n",
      " |      \n",
      " |      Args:\n",
      " |          bold: Default is True, turns property on.\n",
      " |      \n",
      " |      Returns:\n",
      " |          Nothing.\n",
      " |  \n",
      " |  set_border(self, style=1)\n",
      " |      Set the Format bottom property.\n",
      " |      \n",
      " |      Args:\n",
      " |          bottom: Default is 1, border type 1.\n",
      " |      \n",
      " |      Returns:\n",
      " |          Nothing.\n",
      " |  \n",
      " |  set_border_color(self, color)\n",
      " |      Set the Format bottom property.\n",
      " |      \n",
      " |      Args:\n",
      " |          color: Color string. No default.\n",
      " |      \n",
      " |      Returns:\n",
      " |          Nothing.\n",
      " |  \n",
      " |  set_bottom(self, bottom=1)\n",
      " |      Set the Format bottom property.\n",
      " |      \n",
      " |      Args:\n",
      " |          bottom: Default is 1, border type 1.\n",
      " |      \n",
      " |      Returns:\n",
      " |          Nothing.\n",
      " |  \n",
      " |  set_bottom_color(self, bottom_color)\n",
      " |      Set the Format bottom_color property.\n",
      " |      \n",
      " |      Args:\n",
      " |          bottom_color: Color string. No default.\n",
      " |      \n",
      " |      Returns:\n",
      " |          Nothing.\n",
      " |  \n",
      " |  set_center_across(self, align_type=None)\n",
      " |      Set the Format center_across property.\n",
      " |      \n",
      " |      Returns:\n",
      " |          Nothing.\n",
      " |  \n",
      " |  set_color(self, font_color)\n",
      " |  \n",
      " |  set_color_indexed(self, color_index)\n",
      " |  \n",
      " |  set_diag_border(self, diag_border=1)\n",
      " |      Set the Format diag_border property.\n",
      " |      \n",
      " |      Args:\n",
      " |          diag_border: Default is 1, border type 1.\n",
      " |      \n",
      " |      Returns:\n",
      " |          Nothing.\n",
      " |  \n",
      " |  set_diag_color(self, diag_color)\n",
      " |      Set the Format diag_color property.\n",
      " |      \n",
      " |      Args:\n",
      " |          diag_color: Color string. No default.\n",
      " |      \n",
      " |      Returns:\n",
      " |          Nothing.\n",
      " |  \n",
      " |  set_diag_type(self, diag_type=1)\n",
      " |      Set the Format diag_type property.\n",
      " |      \n",
      " |      Args:\n",
      " |          diag_type: Default is 1, border type 1.\n",
      " |      \n",
      " |      Returns:\n",
      " |          Nothing.\n",
      " |  \n",
      " |  set_dxf_index(self, dxf_index)\n",
      " |  \n",
      " |  set_fg_color(self, fg_color)\n",
      " |      Set the Format fg_color property.\n",
      " |      \n",
      " |      Args:\n",
      " |          fg_color: Foreground color. No default.\n",
      " |      \n",
      " |      Returns:\n",
      " |          Nothing.\n",
      " |  \n",
      " |  set_font(self, font_name)\n",
      " |      # Compatibility methods.\n",
      " |  \n",
      " |  set_font_charset(self, font_charset)\n",
      " |  \n",
      " |  set_font_color(self, font_color)\n",
      " |      Set the Format font_color property. The Excel default is black.\n",
      " |      \n",
      " |      Args:\n",
      " |          font_color: String with the font color. No default.\n",
      " |      \n",
      " |      Returns:\n",
      " |          Nothing.\n",
      " |  \n",
      " |  set_font_condense(self, font_condense)\n",
      " |  \n",
      " |  set_font_extend(self, font_extend)\n",
      " |  \n",
      " |  set_font_family(self, font_family)\n",
      " |  \n",
      " |  set_font_index(self, font_index)\n",
      " |  \n",
      " |  set_font_name(self, font_name)\n",
      " |      Set the Format font_name property such as 'Time New Roman'. The\n",
      " |      default Excel font is 'Calibri'.\n",
      " |      \n",
      " |      Args:\n",
      " |          font_name: String with the font name. No default.\n",
      " |      \n",
      " |      Returns:\n",
      " |          Nothing.\n",
      " |  \n",
      " |  set_font_only(self, font_only=True)\n",
      " |  \n",
      " |  set_font_outline(self, font_outline=True)\n",
      " |      Set the Format font_outline property.\n",
      " |      \n",
      " |      Args:\n",
      " |          font_outline: Default is True, turns property on.\n",
      " |      \n",
      " |      Returns:\n",
      " |          Nothing.\n",
      " |  \n",
      " |  set_font_scheme(self, font_scheme)\n",
      " |  \n",
      " |  set_font_script(self, font_script=1)\n",
      " |      Set the Format font_script property.\n",
      " |      \n",
      " |      Args:\n",
      " |          font_script: Default is 1, superscript.\n",
      " |      \n",
      " |      Returns:\n",
      " |          Nothing.\n",
      " |  \n",
      " |  set_font_shadow(self, font_shadow=True)\n",
      " |      Set the Format font_shadow property.\n",
      " |      \n",
      " |      Args:\n",
      " |          font_shadow: Default is True, turns property on.\n",
      " |      \n",
      " |      Returns:\n",
      " |          Nothing.\n",
      " |  \n",
      " |  set_font_size(self, font_size=11)\n",
      " |      Set the Format font_size property. The default Excel font size is 11.\n",
      " |      \n",
      " |      Args:\n",
      " |          font_size: Int with font size. No default.\n",
      " |      \n",
      " |      Returns:\n",
      " |          Nothing.\n",
      " |  \n",
      " |  set_font_strikeout(self, font_strikeout=True)\n",
      " |      Set the Format font_strikeout property.\n",
      " |      \n",
      " |      Args:\n",
      " |          font_strikeout: Default is True, turns property on.\n",
      " |      \n",
      " |      Returns:\n",
      " |          Nothing.\n",
      " |  \n",
      " |  set_has_fill(self, has_fill=True)\n",
      " |  \n",
      " |  set_has_font(self, has_font=True)\n",
      " |  \n",
      " |  set_hidden(self, hidden=True)\n",
      " |      Set the Format hidden property.\n",
      " |      \n",
      " |      Args:\n",
      " |          hidden: Default is True, turns property on.\n",
      " |      \n",
      " |      Returns:\n",
      " |          Nothing.\n",
      " |  \n",
      " |  set_hyperlink(self, hyperlink=True)\n",
      " |  \n",
      " |  set_indent(self, indent=1)\n",
      " |      Set the Format indent property.\n",
      " |      \n",
      " |      Args:\n",
      " |          indent: Default is 1, first indentation level.\n",
      " |      \n",
      " |      Returns:\n",
      " |          Nothing.\n",
      " |  \n",
      " |  set_italic(self, italic=True)\n",
      " |      Set the Format italic property.\n",
      " |      \n",
      " |      Args:\n",
      " |          italic: Default is True, turns property on.\n",
      " |      \n",
      " |      Returns:\n",
      " |          Nothing.\n",
      " |  \n",
      " |  set_left(self, left=1)\n",
      " |      Set the Format left property.\n",
      " |      \n",
      " |      Args:\n",
      " |          left: Default is 1, border type 1.\n",
      " |      \n",
      " |      Returns:\n",
      " |          Nothing.\n",
      " |  \n",
      " |  set_left_color(self, left_color)\n",
      " |      Set the Format left_color property.\n",
      " |      \n",
      " |      Args:\n",
      " |          left_color: Color string. No default.\n",
      " |      \n",
      " |      Returns:\n",
      " |          Nothing.\n",
      " |  \n",
      " |  set_locked(self, locked=True)\n",
      " |      Set the Format locked property.\n",
      " |      \n",
      " |      Args:\n",
      " |          locked: Default is True, turns property on.\n",
      " |      \n",
      " |      Returns:\n",
      " |          Nothing.\n",
      " |  \n",
      " |  set_num_format(self, num_format)\n",
      " |      Set the Format num_format property such as '#,##0'.\n",
      " |      \n",
      " |      Args:\n",
      " |          num_format: String representing the number format. No default.\n",
      " |      \n",
      " |      Returns:\n",
      " |          Nothing.\n",
      " |  \n",
      " |  set_num_format_index(self, num_format_index)\n",
      " |  \n",
      " |  set_pattern(self, pattern=1)\n",
      " |      Set the Format pattern property.\n",
      " |      \n",
      " |      Args:\n",
      " |          pattern: Default is 1, solid fill.\n",
      " |      \n",
      " |      Returns:\n",
      " |          Nothing.\n",
      " |  \n",
      " |  set_quote_prefix(self, quote_prefix=True)\n",
      " |      Set the Format quote prefix property.\n",
      " |      \n",
      " |      Args:\n",
      " |          quote_prefix: Default is True, turns property on.\n",
      " |      \n",
      " |      Returns:\n",
      " |          Nothing.\n",
      " |  \n",
      " |  set_reading_order(self, direction=0)\n",
      " |  \n",
      " |  set_right(self, right=1)\n",
      " |      Set the Format right property.\n",
      " |      \n",
      " |      Args:\n",
      " |          right: Default is 1, border type 1.\n",
      " |      \n",
      " |      Returns:\n",
      " |          Nothing.\n",
      " |  \n",
      " |  set_right_color(self, right_color)\n",
      " |      Set the Format right_color property.\n",
      " |      \n",
      " |      Args:\n",
      " |          right_color: Color string. No default.\n",
      " |      \n",
      " |      Returns:\n",
      " |          Nothing.\n",
      " |  \n",
      " |  set_rotation(self, rotation)\n",
      " |      Set the Format rotation property.\n",
      " |      \n",
      " |      Args:\n",
      " |          rotation: Rotation angle. No default.\n",
      " |      \n",
      " |      Returns:\n",
      " |          Nothing.\n",
      " |  \n",
      " |  set_shrink(self, shrink=True)\n",
      " |      Set the Format shrink property.\n",
      " |      \n",
      " |      Args:\n",
      " |          shrink: Default is True, turns property on.\n",
      " |      \n",
      " |      Returns:\n",
      " |          Nothing.\n",
      " |  \n",
      " |  set_size(self, font_size)\n",
      " |  \n",
      " |  set_text_h_align(self, text_h_align)\n",
      " |  \n",
      " |  set_text_justlast(self, text_justlast=True)\n",
      " |      Set the Format text_justlast property.\n",
      " |      \n",
      " |      Args:\n",
      " |          text_justlast: Default is True, turns property on.\n",
      " |      \n",
      " |      Returns:\n",
      " |          Nothing.\n",
      " |  \n",
      " |  set_text_v_align(self, text_v_align)\n",
      " |  \n",
      " |  set_text_wrap(self, text_wrap=True)\n",
      " |      Set the Format text_wrap property.\n",
      " |      \n",
      " |      Args:\n",
      " |          text_wrap: Default is True, turns property on.\n",
      " |      \n",
      " |      Returns:\n",
      " |          Nothing.\n",
      " |  \n",
      " |  set_theme(self, theme)\n",
      " |  \n",
      " |  set_top(self, top=1)\n",
      " |      Set the Format top property.\n",
      " |      \n",
      " |      Args:\n",
      " |          top: Default is 1, border type 1.\n",
      " |      \n",
      " |      Returns:\n",
      " |          Nothing.\n",
      " |  \n",
      " |  set_top_color(self, top_color)\n",
      " |      Set the Format top_color property.\n",
      " |      \n",
      " |      Args:\n",
      " |          top_color: Color string. No default.\n",
      " |      \n",
      " |      Returns:\n",
      " |          Nothing.\n",
      " |  \n",
      " |  set_underline(self, underline=1)\n",
      " |      Set the Format underline property.\n",
      " |      \n",
      " |      Args:\n",
      " |          underline: Default is 1, single underline.\n",
      " |      \n",
      " |      Returns:\n",
      " |          Nothing.\n",
      " |  \n",
      " |  set_valign(self, align)\n",
      " |  \n",
      " |  set_xf_index(self, xf_index)\n",
      " |  \n",
      " |  ----------------------------------------------------------------------\n",
      " |  Data descriptors inherited from xlsxwriter.xmlwriter.XMLwriter:\n",
      " |  \n",
      " |  __dict__\n",
      " |      dictionary for instance variables (if defined)\n",
      " |  \n",
      " |  __weakref__\n",
      " |      list of weak references to the object (if defined)\n",
      "\n"
     ]
    }
   ],
   "source": [
    "help(wb.formats[0])"
   ]
  },
  {
   "cell_type": "code",
   "execution_count": 125,
   "id": "854c10c3",
   "metadata": {},
   "outputs": [],
   "source": [
    "success=wb.add_format(\n",
    "    {\n",
    "        \"bg_color\":\"#00FF00\",\n",
    "        \"font\":\"Century\",\n",
    "        \"font_size\":22,\n",
    "        \"bold\":True\n",
    "    }\n",
    ")"
   ]
  },
  {
   "cell_type": "code",
   "execution_count": 126,
   "id": "97914740",
   "metadata": {},
   "outputs": [
    {
     "data": {
      "text/plain": [
       "0"
      ]
     },
     "execution_count": 126,
     "metadata": {},
     "output_type": "execute_result"
    }
   ],
   "source": [
    "ws_analysis.write(\n",
    "    \"B2\",\n",
    "    \"Spock is logical\",\n",
    "    success\n",
    ")"
   ]
  },
  {
   "cell_type": "code",
   "execution_count": 127,
   "id": "f4848ab1",
   "metadata": {},
   "outputs": [],
   "source": [
    "wb.close()"
   ]
  },
  {
   "cell_type": "markdown",
   "id": "ac02da57",
   "metadata": {},
   "source": [
    "### Column Width"
   ]
  },
  {
   "cell_type": "code",
   "execution_count": 158,
   "id": "6f96a2b2",
   "metadata": {},
   "outputs": [
    {
     "data": {
      "text/plain": [
       "0"
      ]
     },
     "execution_count": 158,
     "metadata": {},
     "output_type": "execute_result"
    }
   ],
   "source": [
    "wb=xl.Workbook(filename)\n",
    "ws_analysis=wb.add_worksheet('analysis')\n",
    "success=wb.add_format(\n",
    "    {\n",
    "        \"bg_color\":\"#00FF00\",\n",
    "        \"font\":\"Century\",\n",
    "        \"font_size\":22,\n",
    "        \"bold\":True\n",
    "    }\n",
    ")\n",
    "ws_analysis.write(\n",
    "    3, # Row 4\n",
    "    4, # Column E\n",
    "    \"Spock is logical\",\n",
    "    success\n",
    ")"
   ]
  },
  {
   "cell_type": "code",
   "execution_count": 159,
   "id": "b8ce07a7",
   "metadata": {},
   "outputs": [
    {
     "data": {
      "text/plain": [
       "0"
      ]
     },
     "execution_count": 159,
     "metadata": {},
     "output_type": "execute_result"
    }
   ],
   "source": [
    "ws_analysis.set_column(\"E:E\",# Column to column range\n",
    "                       30\n",
    "                      )"
   ]
  },
  {
   "cell_type": "code",
   "execution_count": 160,
   "id": "71d516d9",
   "metadata": {},
   "outputs": [
    {
     "data": {
      "text/plain": [
       "0"
      ]
     },
     "execution_count": 160,
     "metadata": {},
     "output_type": "execute_result"
    }
   ],
   "source": [
    "ws_analysis.set_column(0,# Column A\n",
    "                       4,# Column E\n",
    "                       30\n",
    "                      )"
   ]
  },
  {
   "cell_type": "code",
   "execution_count": 165,
   "id": "b215108f",
   "metadata": {},
   "outputs": [],
   "source": [
    "wb.close()"
   ]
  },
  {
   "cell_type": "markdown",
   "id": "5ef7c59e",
   "metadata": {},
   "source": [
    "### Cell Border"
   ]
  },
  {
   "cell_type": "code",
   "execution_count": 185,
   "id": "9f8c4312",
   "metadata": {},
   "outputs": [],
   "source": [
    "wb=xl.Workbook(filename)\n",
    "ws_analysis=wb.add_worksheet('analysis')"
   ]
  },
  {
   "cell_type": "code",
   "execution_count": 186,
   "id": "afb9073c",
   "metadata": {},
   "outputs": [],
   "source": [
    "full_border=wb.add_format(\n",
    "    {\n",
    "        \"border\":1,\n",
    "        \"border_color\":\"#000000\"\n",
    "    }\n",
    ")\n",
    "\n",
    "bottom_red_border=wb.add_format(\n",
    "    {\n",
    "        \"bottom\":6, # top, left, right\n",
    "        \"bottom_color\":\"#ff0000\"\n",
    "    }\n",
    ")\n",
    "\n",
    "header_border=wb.add_format(\n",
    "    {\n",
    "        \"top\":1,\n",
    "        \"top_color\":\"#ff0000\",\n",
    "        \"bottom\":6, \n",
    "        \"bottom_color\":\"#ff0000\"\n",
    "    }\n",
    ")"
   ]
  },
  {
   "cell_type": "code",
   "execution_count": 187,
   "id": "ffd57b58",
   "metadata": {},
   "outputs": [
    {
     "data": {
      "text/plain": [
       "0"
      ]
     },
     "execution_count": 187,
     "metadata": {},
     "output_type": "execute_result"
    }
   ],
   "source": [
    "ws_analysis.write(\n",
    "    \"B2\",\n",
    "    None,\n",
    "    full_border\n",
    ")\n",
    "ws_analysis.write(\n",
    "    \"B4\",\n",
    "    None,\n",
    "    bottom_red_border\n",
    ")\n",
    "\n",
    "ws_analysis.write(\n",
    "    \"B6\",\n",
    "    None,\n",
    "    header_border\n",
    ")"
   ]
  },
  {
   "cell_type": "code",
   "execution_count": 188,
   "id": "8e909d88",
   "metadata": {},
   "outputs": [],
   "source": [
    "wb.close()"
   ]
  },
  {
   "cell_type": "code",
   "execution_count": null,
   "id": "1fe6399b",
   "metadata": {},
   "outputs": [],
   "source": []
  },
  {
   "cell_type": "markdown",
   "id": "37489c44",
   "metadata": {},
   "source": [
    "### Cell Borders across multiple columns"
   ]
  },
  {
   "cell_type": "code",
   "execution_count": 189,
   "id": "04eaa012",
   "metadata": {},
   "outputs": [],
   "source": [
    "wb=xl.Workbook(filename)\n",
    "ws_analysis=wb.add_worksheet('analysis')"
   ]
  },
  {
   "cell_type": "code",
   "execution_count": 190,
   "id": "86b6c7c2",
   "metadata": {},
   "outputs": [],
   "source": [
    "column_headers=['crew_id','First Name','Age']"
   ]
  },
  {
   "cell_type": "code",
   "execution_count": 192,
   "id": "23326e55",
   "metadata": {},
   "outputs": [],
   "source": [
    "header_border=wb.add_format(\n",
    "    {\n",
    "        'bottom':6,\n",
    "        'bottom_color':'#000000',\n",
    "        'top':1,\n",
    "        'top_color':'#000000'\n",
    "    }\n",
    ")"
   ]
  },
  {
   "cell_type": "code",
   "execution_count": 193,
   "id": "7f828d98",
   "metadata": {},
   "outputs": [],
   "source": [
    "row_index=1\n",
    "start_column=2\n",
    "end_column=start_column+len(column_headers)"
   ]
  },
  {
   "cell_type": "code",
   "execution_count": 196,
   "id": "17fb4874",
   "metadata": {},
   "outputs": [],
   "source": [
    "for column_index in range(start_column,end_column):\n",
    "    ws_analysis.write(\n",
    "        row_index,\n",
    "        column_index,\n",
    "        column_headers[column_index-start_column],\n",
    "        header_border\n",
    "    )"
   ]
  },
  {
   "cell_type": "code",
   "execution_count": 197,
   "id": "44de76dd",
   "metadata": {},
   "outputs": [],
   "source": [
    "wb.close()"
   ]
  },
  {
   "cell_type": "code",
   "execution_count": null,
   "id": "f8613b42",
   "metadata": {},
   "outputs": [],
   "source": []
  }
 ],
 "metadata": {
  "kernelspec": {
   "display_name": "Python 3 (ipykernel)",
   "language": "python",
   "name": "python3"
  },
  "language_info": {
   "codemirror_mode": {
    "name": "ipython",
    "version": 3
   },
   "file_extension": ".py",
   "mimetype": "text/x-python",
   "name": "python",
   "nbconvert_exporter": "python",
   "pygments_lexer": "ipython3",
   "version": "3.8.16"
  }
 },
 "nbformat": 4,
 "nbformat_minor": 5
}
