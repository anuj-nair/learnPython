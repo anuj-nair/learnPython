{
 "cells": [
  {
   "cell_type": "markdown",
   "id": "df79d0a1",
   "metadata": {},
   "source": [
    "### Read YAML"
   ]
  },
  {
   "cell_type": "code",
   "execution_count": 2,
   "id": "14ec434a",
   "metadata": {},
   "outputs": [],
   "source": [
    "import yaml"
   ]
  },
  {
   "cell_type": "code",
   "execution_count": 3,
   "id": "449b1055",
   "metadata": {},
   "outputs": [],
   "source": [
    "with open('example.yml','r') as f:\n",
    "    data=yaml.safe_load(f)"
   ]
  },
  {
   "cell_type": "code",
   "execution_count": 4,
   "id": "f1df137c",
   "metadata": {},
   "outputs": [
    {
     "data": {
      "text/plain": [
       "{'key': 'value',\n",
       " 'my-list': ['item1', 'item2', 'item3'],\n",
       " 'my-dict': {'key1': 'value1', 'key2': 'value2', 'key3': 'value3'},\n",
       " 'multi-line-str': 'This is a\\nmulti-line\\nstring'}"
      ]
     },
     "execution_count": 4,
     "metadata": {},
     "output_type": "execute_result"
    }
   ],
   "source": [
    "data"
   ]
  },
  {
   "cell_type": "markdown",
   "id": "21dab873",
   "metadata": {},
   "source": [
    "### MINI CODE"
   ]
  },
  {
   "cell_type": "code",
   "execution_count": 21,
   "id": "beaedd8c",
   "metadata": {},
   "outputs": [],
   "source": [
    "import random\n",
    "import yaml\n",
    "import getpass"
   ]
  },
  {
   "cell_type": "code",
   "execution_count": 31,
   "id": "ab8142c5",
   "metadata": {},
   "outputs": [
    {
     "name": "stdout",
     "output_type": "stream",
     "text": [
      "{'range': {'min': 1, 'max': 100}, 'guesses': 20, 'mode': 'multi'}\n"
     ]
    }
   ],
   "source": [
    "with open('game_config.yml','r') as f:\n",
    "    config=yaml.safe_load(f)\n",
    "print(config)"
   ]
  },
  {
   "cell_type": "code",
   "execution_count": 32,
   "id": "49c39285",
   "metadata": {},
   "outputs": [],
   "source": [
    "range_min=config['range']['min']\n",
    "range_max=config['range']['max']\n",
    "guesses_allowed=config['guesses']\n",
    "mode=config['mode']"
   ]
  },
  {
   "cell_type": "code",
   "execution_count": 33,
   "id": "d7f72499",
   "metadata": {},
   "outputs": [
    {
     "name": "stdout",
     "output_type": "stream",
     "text": [
      "Player 2, please enter number to guess: ········\n"
     ]
    }
   ],
   "source": [
    "if mode=='single':\n",
    "    correct_number=random.randint(range_min,range_max)\n",
    "elif mode=='multi':\n",
    "    correct_number=int(getpass.getpass('Player 2, please enter number to guess: '))\n",
    "else:\n",
    "    print(\"Invalid Config\")\n",
    "    exit()"
   ]
  },
  {
   "cell_type": "code",
   "execution_count": 34,
   "id": "d77256f6",
   "metadata": {},
   "outputs": [
    {
     "name": "stdout",
     "output_type": "stream",
     "text": [
      "Enter your guess: 50\n",
      "Too Low!\n",
      "Enter your guess: 75\n",
      "Too High!\n",
      "Enter your guess: 62\n",
      "Too Low!\n",
      "Enter your guess: 69\n",
      "Too High!\n",
      "Enter your guess: 66\n",
      "Too Low!\n",
      "Enter your guess: 68\n",
      "Correct! You needed 6 tries!\n"
     ]
    }
   ],
   "source": [
    "solved=False\n",
    "for i in range(guesses_allowed):\n",
    "    guess = int(input('Enter your guess: '))\n",
    "    if guess == correct_number:\n",
    "        print(f\"Correct! You needed {i+1} tries!\")\n",
    "        solved=True\n",
    "        break\n",
    "    elif guess < correct_number:\n",
    "        print(\"Too Low!\")\n",
    "    elif guess > correct_number:\n",
    "        print(\"Too High!\")\n",
    "if not solved:\n",
    "    print(f\"You lost. The number was {correct_number}\")"
   ]
  },
  {
   "cell_type": "markdown",
   "id": "3b90d568",
   "metadata": {},
   "source": [
    "### Write YAML"
   ]
  },
  {
   "cell_type": "code",
   "execution_count": 37,
   "id": "b33abddf",
   "metadata": {},
   "outputs": [],
   "source": [
    "import yaml"
   ]
  },
  {
   "cell_type": "code",
   "execution_count": 41,
   "id": "25fbc8c5",
   "metadata": {},
   "outputs": [],
   "source": [
    "data={\n",
    "    'name':'Jake',\n",
    "    'age': 32,\n",
    "    'hobbies': ['Problem Solving','Having Fun', 'Messing Around'],\n",
    "    'address':{\n",
    "        'city':'NYC',\n",
    "        'zip': 10018,\n",
    "        'country':'US'\n",
    "    }\n",
    "}"
   ]
  },
  {
   "cell_type": "code",
   "execution_count": 44,
   "id": "027e7b87",
   "metadata": {},
   "outputs": [],
   "source": [
    "with open(\"jake.yml\",'w') as f:\n",
    "    yaml.dump(data,f,default_flow_style=False)"
   ]
  },
  {
   "cell_type": "code",
   "execution_count": null,
   "id": "ccd00299",
   "metadata": {},
   "outputs": [],
   "source": []
  },
  {
   "cell_type": "markdown",
   "id": "265cb943",
   "metadata": {},
   "source": [
    "### Complex YAML features"
   ]
  },
  {
   "cell_type": "code",
   "execution_count": 45,
   "id": "4da1416d",
   "metadata": {},
   "outputs": [],
   "source": [
    "import yaml"
   ]
  },
  {
   "cell_type": "code",
   "execution_count": 52,
   "id": "0f6c95d6",
   "metadata": {},
   "outputs": [
    {
     "name": "stdout",
     "output_type": "stream",
     "text": [
      "{'address': {'city': 'NYC', 'zip': 10018, 'country': 'US'}, 'person1': {'name': 'Bob', 'age': 32, 'address': {'city': 'NYC', 'zip': 10018, 'country': 'US'}}, 'person2': {'name': 'Jake', 'age': 62, 'address': {'city': 'NYC', 'zip': 11118, 'country': 'US'}}}\n"
     ]
    }
   ],
   "source": [
    "with open('complex.yml','r') as f:\n",
    "    data=yaml.safe_load(f)\n",
    "print(data)"
   ]
  },
  {
   "cell_type": "code",
   "execution_count": null,
   "id": "3c44e731",
   "metadata": {},
   "outputs": [],
   "source": []
  }
 ],
 "metadata": {
  "kernelspec": {
   "display_name": "Python 3 (ipykernel)",
   "language": "python",
   "name": "python3"
  },
  "language_info": {
   "codemirror_mode": {
    "name": "ipython",
    "version": 3
   },
   "file_extension": ".py",
   "mimetype": "text/x-python",
   "name": "python",
   "nbconvert_exporter": "python",
   "pygments_lexer": "ipython3",
   "version": "3.8.16"
  }
 },
 "nbformat": 4,
 "nbformat_minor": 5
}
