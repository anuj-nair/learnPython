{
 "cells": [
  {
   "cell_type": "code",
   "execution_count": 9,
   "id": "753c96d7-2df9-4642-9e74-4dbb5b4e5632",
   "metadata": {
    "tags": []
   },
   "outputs": [],
   "source": [
    "import pandas as pd\n",
    "import dtale\n",
    "import dtale.app as dtale_app"
   ]
  },
  {
   "cell_type": "code",
   "execution_count": 10,
   "id": "bd32ce91-29cd-48e3-9ac8-1c47850c99c6",
   "metadata": {
    "tags": []
   },
   "outputs": [],
   "source": [
    "# Penguins\n",
    "# df = pd.read_csv('https://raw.githubusercontent.com/dataprofessor/data/master/penguins_size.csv')\n",
    "\n",
    "# Solubility data\n",
    "df = pd.read_csv('https://github.com/dataprofessor/data/raw/master/delaney_solubility_with_descriptors.csv')\n",
    "\n",
    "# Acetylcholinesterase inhibitors data\n",
    "#df = pd.read_csv('https://github.com/dataprofessor/data/raw/master/acetylcholinesterase_06_bioactivity_data_3class_pIC50_pubchem_fp.csv')"
   ]
  },
  {
   "cell_type": "code",
   "execution_count": null,
   "id": "318c0c19-434a-458f-a58d-c36a61a3b125",
   "metadata": {},
   "outputs": [],
   "source": []
  },
  {
   "cell_type": "code",
   "execution_count": 11,
   "id": "0227c94c-1995-40a9-91b4-9561531c59fa",
   "metadata": {},
   "outputs": [
    {
     "data": {
      "text/html": [
       "\n",
       "        <iframe\n",
       "            width=\"100%\"\n",
       "            height=\"475\"\n",
       "            src=\"http://gentoo:40000/dtale/iframe/2\"\n",
       "            frameborder=\"0\"\n",
       "            allowfullscreen\n",
       "            \n",
       "        ></iframe>\n",
       "        "
      ],
      "text/plain": [
       "<IPython.lib.display.IFrame at 0x7f4a0f7b0580>"
      ]
     },
     "metadata": {},
     "output_type": "display_data"
    },
    {
     "data": {
      "text/plain": []
     },
     "execution_count": 11,
     "metadata": {},
     "output_type": "execute_result"
    }
   ],
   "source": [
    "# dtale_app.USE_NGROK=True  # if in google colab\n",
    "dtale.show(df)"
   ]
  },
  {
   "cell_type": "code",
   "execution_count": 15,
   "id": "f4e6af26-a7dc-4a4f-892e-ca2ddf312500",
   "metadata": {},
   "outputs": [
    {
     "data": {
      "text/html": [
       "\n",
       "        <iframe\n",
       "            width=\"100%\"\n",
       "            height=\"475\"\n",
       "            src=\"http://gentoo:40000/dtale/iframe/5\"\n",
       "            frameborder=\"0\"\n",
       "            allowfullscreen\n",
       "            \n",
       "        ></iframe>\n",
       "        "
      ],
      "text/plain": [
       "<IPython.lib.display.IFrame at 0x7f4a6f818df0>"
      ]
     },
     "metadata": {},
     "output_type": "display_data"
    },
    {
     "data": {
      "text/plain": []
     },
     "execution_count": 15,
     "metadata": {},
     "output_type": "execute_result"
    },
    {
     "name": "stderr",
     "output_type": "stream",
     "text": [
      "/home/cherry/.cache/pypoetry/virtualenvs/learnpython-3LpIPjun-py3.8/lib/python3.8/site-packages/seaborn/matrix.py:309: UserWarning:\n",
      "\n",
      "Attempting to set identical low and high xlims makes transformation singular; automatically expanding.\n",
      "\n",
      "/home/cherry/.cache/pypoetry/virtualenvs/learnpython-3LpIPjun-py3.8/lib/python3.8/site-packages/seaborn/matrix.py:309: UserWarning:\n",
      "\n",
      "Attempting to set identical low and high ylims makes transformation singular; automatically expanding.\n",
      "\n",
      "2023-05-23 07:59:02,945 - WARNING  - findfont: Font family 'Heiti TC' not found.\n",
      "2023-05-23 07:59:02,956 - WARNING  - findfont: Font family 'Heiti TC' not found.\n",
      "2023-05-23 07:59:02,964 - WARNING  - findfont: Font family 'Heiti TC' not found.\n",
      "2023-05-23 07:59:02,975 - WARNING  - findfont: Font family 'Heiti TC' not found.\n",
      "2023-05-23 07:59:02,983 - WARNING  - findfont: Font family 'Heiti TC' not found.\n",
      "2023-05-23 07:59:02,993 - WARNING  - findfont: Font family 'Heiti TC' not found.\n",
      "2023-05-23 07:59:03,001 - WARNING  - findfont: Font family 'Heiti TC' not found.\n",
      "2023-05-23 07:59:03,008 - WARNING  - findfont: Font family 'Heiti TC' not found.\n",
      "2023-05-23 07:59:03,015 - WARNING  - findfont: Font family 'Heiti TC' not found.\n",
      "2023-05-23 07:59:03,023 - WARNING  - findfont: Font family 'Heiti TC' not found.\n",
      "2023-05-23 07:59:03,032 - WARNING  - findfont: Font family 'Heiti TC' not found.\n",
      "2023-05-23 07:59:03,040 - WARNING  - findfont: Font family 'Heiti TC' not found.\n",
      "2023-05-23 07:59:03,050 - WARNING  - findfont: Font family 'Heiti TC' not found.\n",
      "2023-05-23 07:59:03,058 - WARNING  - findfont: Font family 'Heiti TC' not found.\n",
      "2023-05-23 07:59:03,067 - WARNING  - findfont: Font family 'Heiti TC' not found.\n",
      "2023-05-23 07:59:03,076 - WARNING  - findfont: Font family 'Heiti TC' not found.\n",
      "2023-05-23 07:59:03,086 - WARNING  - findfont: Font family 'Heiti TC' not found.\n",
      "2023-05-23 07:59:03,096 - WARNING  - findfont: Font family 'Heiti TC' not found.\n",
      "2023-05-23 07:59:03,105 - WARNING  - findfont: Font family 'Heiti TC' not found.\n",
      "2023-05-23 07:59:03,180 - WARNING  - findfont: Font family 'Heiti TC' not found.\n",
      "2023-05-23 07:59:03,185 - WARNING  - findfont: Font family 'Heiti TC' not found.\n",
      "2023-05-23 07:59:03,193 - WARNING  - findfont: Font family 'Heiti TC' not found.\n",
      "2023-05-23 07:59:03,200 - WARNING  - findfont: Font family 'Heiti TC' not found.\n",
      "2023-05-23 07:59:03,209 - WARNING  - findfont: Font family 'Heiti TC' not found.\n",
      "2023-05-23 07:59:03,217 - WARNING  - findfont: Font family 'Heiti TC' not found.\n",
      "2023-05-23 07:59:03,223 - WARNING  - findfont: Font family 'Heiti TC' not found.\n",
      "2023-05-23 07:59:03,233 - WARNING  - findfont: Font family 'Heiti TC' not found.\n",
      "2023-05-23 07:59:03,245 - WARNING  - findfont: Font family 'Heiti TC' not found.\n",
      "2023-05-23 07:59:03,255 - WARNING  - findfont: Font family 'Heiti TC' not found.\n",
      "2023-05-23 07:59:03,268 - WARNING  - findfont: Font family 'Heiti TC' not found.\n",
      "2023-05-23 07:59:03,279 - WARNING  - findfont: Font family 'Heiti TC' not found.\n",
      "2023-05-23 07:59:03,290 - WARNING  - findfont: Font family 'Heiti TC' not found.\n",
      "2023-05-23 07:59:03,301 - WARNING  - findfont: Font family 'Heiti TC' not found.\n",
      "2023-05-23 07:59:03,312 - WARNING  - findfont: Font family 'Heiti TC' not found.\n",
      "2023-05-23 07:59:03,322 - WARNING  - findfont: Font family 'Heiti TC' not found.\n",
      "2023-05-23 07:59:03,334 - WARNING  - findfont: Font family 'Heiti TC' not found.\n",
      "2023-05-23 07:59:03,345 - WARNING  - findfont: Font family 'Heiti TC' not found.\n",
      "2023-05-23 07:59:03,355 - WARNING  - findfont: Font family 'Heiti TC' not found.\n",
      "2023-05-23 07:59:09,199 - WARNING  - findfont: Font family 'Heiti TC' not found.\n",
      "2023-05-23 07:59:09,207 - WARNING  - findfont: Font family 'Heiti TC' not found.\n",
      "2023-05-23 07:59:09,213 - WARNING  - findfont: Font family 'Heiti TC' not found.\n",
      "2023-05-23 07:59:09,223 - WARNING  - findfont: Font family 'Heiti TC' not found.\n",
      "2023-05-23 07:59:09,238 - WARNING  - findfont: Font family 'Heiti TC' not found.\n",
      "2023-05-23 07:59:09,247 - WARNING  - findfont: Font family 'Heiti TC' not found.\n",
      "2023-05-23 07:59:09,254 - WARNING  - findfont: Font family 'Heiti TC' not found.\n",
      "2023-05-23 07:59:09,261 - WARNING  - findfont: Font family 'Heiti TC' not found.\n",
      "2023-05-23 07:59:09,268 - WARNING  - findfont: Font family 'Heiti TC' not found.\n",
      "2023-05-23 07:59:09,276 - WARNING  - findfont: Font family 'Heiti TC' not found.\n",
      "2023-05-23 07:59:09,511 - WARNING  - findfont: Font family 'Heiti TC' not found.\n",
      "2023-05-23 07:59:09,519 - WARNING  - findfont: Font family 'Heiti TC' not found.\n",
      "2023-05-23 07:59:09,526 - WARNING  - findfont: Font family 'Heiti TC' not found.\n",
      "2023-05-23 07:59:09,536 - WARNING  - findfont: Font family 'Heiti TC' not found.\n",
      "2023-05-23 07:59:09,546 - WARNING  - findfont: Font family 'Heiti TC' not found.\n",
      "2023-05-23 07:59:09,560 - WARNING  - findfont: Font family 'Heiti TC' not found.\n",
      "2023-05-23 07:59:09,567 - WARNING  - findfont: Font family 'Heiti TC' not found.\n",
      "2023-05-23 07:59:09,572 - WARNING  - findfont: Font family 'Heiti TC' not found.\n",
      "2023-05-23 07:59:09,580 - WARNING  - findfont: Font family 'Heiti TC' not found.\n",
      "2023-05-23 07:59:09,588 - WARNING  - findfont: Font family 'Heiti TC' not found.\n"
     ]
    }
   ],
   "source": [
    "dtale.show(df)"
   ]
  },
  {
   "cell_type": "code",
   "execution_count": 16,
   "id": "c6c904a3-021d-456b-a2c0-d2aa7640d1ff",
   "metadata": {},
   "outputs": [
    {
     "data": {
      "text/html": [
       "\n",
       "        <iframe\n",
       "            width=\"100%\"\n",
       "            height=\"475\"\n",
       "            src=\"http://gentoo:40000/dtale/iframe/6\"\n",
       "            frameborder=\"0\"\n",
       "            allowfullscreen\n",
       "            \n",
       "        ></iframe>\n",
       "        "
      ],
      "text/plain": [
       "<IPython.lib.display.IFrame at 0x7f4a70146730>"
      ]
     },
     "metadata": {},
     "output_type": "display_data"
    },
    {
     "data": {
      "text/plain": []
     },
     "execution_count": 16,
     "metadata": {},
     "output_type": "execute_result"
    }
   ],
   "source": [
    "dtale.show(df)"
   ]
  },
  {
   "cell_type": "code",
   "execution_count": 17,
   "id": "4a79b9ce-6460-4140-b76f-798ba1ae7731",
   "metadata": {
    "scrolled": true
   },
   "outputs": [
    {
     "data": {
      "text/html": [
       "\n",
       "        <iframe\n",
       "            width=\"100%\"\n",
       "            height=\"475\"\n",
       "            src=\"http://gentoo:40000/dtale/iframe/7\"\n",
       "            frameborder=\"0\"\n",
       "            allowfullscreen\n",
       "            \n",
       "        ></iframe>\n",
       "        "
      ],
      "text/plain": [
       "<IPython.lib.display.IFrame at 0x7f4a70176250>"
      ]
     },
     "metadata": {},
     "output_type": "display_data"
    },
    {
     "data": {
      "text/plain": []
     },
     "execution_count": 17,
     "metadata": {},
     "output_type": "execute_result"
    },
    {
     "name": "stderr",
     "output_type": "stream",
     "text": [
      "2023-05-23 08:12:09,205 - ERROR    - Exception occurred while processing request: `bins` must be positive, when an integer\n",
      "Traceback (most recent call last):\n",
      "  File \"/home/cherry/.cache/pypoetry/virtualenvs/learnpython-3LpIPjun-py3.8/lib/python3.8/site-packages/dtale/views.py\", line 112, in _handle_exceptions\n",
      "    return func(*args, **kwargs)\n",
      "  File \"/home/cherry/.cache/pypoetry/virtualenvs/learnpython-3LpIPjun-py3.8/lib/python3.8/site-packages/dtale/views.py\", line 2817, in get_column_analysis\n",
      "    return jsonify(**analysis.build())\n",
      "  File \"/home/cherry/.cache/pypoetry/virtualenvs/learnpython-3LpIPjun-py3.8/lib/python3.8/site-packages/dtale/column_analysis.py\", line 139, in build\n",
      "    return_data, code = self.analysis.build(self)\n",
      "  File \"/home/cherry/.cache/pypoetry/virtualenvs/learnpython-3LpIPjun-py3.8/lib/python3.8/site-packages/dtale/column_analysis.py\", line 183, in build\n",
      "    return_data, hist_labels = self.build_histogram_data(\n",
      "  File \"/home/cherry/.cache/pypoetry/virtualenvs/learnpython-3LpIPjun-py3.8/lib/python3.8/site-packages/dtale/column_analysis.py\", line 159, in build_histogram_data\n",
      "    hist_data, hist_labels = np.histogram(series, **hist_kwargs)\n",
      "  File \"<__array_function__ internals>\", line 200, in histogram\n",
      "  File \"/home/cherry/.cache/pypoetry/virtualenvs/learnpython-3LpIPjun-py3.8/lib/python3.8/site-packages/numpy/lib/histograms.py\", line 780, in histogram\n",
      "    bin_edges, uniform_bins = _get_bin_edges(a, bins, range, weights)\n",
      "  File \"/home/cherry/.cache/pypoetry/virtualenvs/learnpython-3LpIPjun-py3.8/lib/python3.8/site-packages/numpy/lib/histograms.py\", line 424, in _get_bin_edges\n",
      "    raise ValueError('`bins` must be positive, when an integer')\n",
      "ValueError: `bins` must be positive, when an integer\n",
      "2023-05-23 08:12:11,921 - ERROR    - Exception occurred while processing request: `bins` must be positive, when an integer\n",
      "Traceback (most recent call last):\n",
      "  File \"/home/cherry/.cache/pypoetry/virtualenvs/learnpython-3LpIPjun-py3.8/lib/python3.8/site-packages/dtale/views.py\", line 112, in _handle_exceptions\n",
      "    return func(*args, **kwargs)\n",
      "  File \"/home/cherry/.cache/pypoetry/virtualenvs/learnpython-3LpIPjun-py3.8/lib/python3.8/site-packages/dtale/views.py\", line 2817, in get_column_analysis\n",
      "    return jsonify(**analysis.build())\n",
      "  File \"/home/cherry/.cache/pypoetry/virtualenvs/learnpython-3LpIPjun-py3.8/lib/python3.8/site-packages/dtale/column_analysis.py\", line 139, in build\n",
      "    return_data, code = self.analysis.build(self)\n",
      "  File \"/home/cherry/.cache/pypoetry/virtualenvs/learnpython-3LpIPjun-py3.8/lib/python3.8/site-packages/dtale/column_analysis.py\", line 183, in build\n",
      "    return_data, hist_labels = self.build_histogram_data(\n",
      "  File \"/home/cherry/.cache/pypoetry/virtualenvs/learnpython-3LpIPjun-py3.8/lib/python3.8/site-packages/dtale/column_analysis.py\", line 159, in build_histogram_data\n",
      "    hist_data, hist_labels = np.histogram(series, **hist_kwargs)\n",
      "  File \"<__array_function__ internals>\", line 200, in histogram\n",
      "  File \"/home/cherry/.cache/pypoetry/virtualenvs/learnpython-3LpIPjun-py3.8/lib/python3.8/site-packages/numpy/lib/histograms.py\", line 780, in histogram\n",
      "    bin_edges, uniform_bins = _get_bin_edges(a, bins, range, weights)\n",
      "  File \"/home/cherry/.cache/pypoetry/virtualenvs/learnpython-3LpIPjun-py3.8/lib/python3.8/site-packages/numpy/lib/histograms.py\", line 424, in _get_bin_edges\n",
      "    raise ValueError('`bins` must be positive, when an integer')\n",
      "ValueError: `bins` must be positive, when an integer\n"
     ]
    }
   ],
   "source": [
    "dtale.show(df)"
   ]
  },
  {
   "cell_type": "code",
   "execution_count": null,
   "id": "c10ecf13-7d13-44b9-92fe-6c2b124f8e63",
   "metadata": {},
   "outputs": [],
   "source": []
  }
 ],
 "metadata": {
  "kernelspec": {
   "display_name": "Python 3 (ipykernel)",
   "language": "python",
   "name": "python3"
  },
  "language_info": {
   "codemirror_mode": {
    "name": "ipython",
    "version": 3
   },
   "file_extension": ".py",
   "mimetype": "text/x-python",
   "name": "python",
   "nbconvert_exporter": "python",
   "pygments_lexer": "ipython3",
   "version": "3.8.16"
  }
 },
 "nbformat": 4,
 "nbformat_minor": 5
}
